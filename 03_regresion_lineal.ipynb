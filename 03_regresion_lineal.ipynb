{
  "cells": [
    {
      "cell_type": "markdown",
      "metadata": {
        "id": "sL022-sJkyRj"
      },
      "source": [
        "#  **Regresión Lineal**"
      ]
    },
    {
      "cell_type": "markdown",
      "metadata": {
        "id": "tkEG9f5IkyRm"
      },
      "source": [
        "#### **Aprendizaje Supervisado**\n",
        "\n",
        "Recordando lo visto en la Unidad 1, en el aprendizaje supervisado, cuando la variable objetivo es continua,  para predecir se utilizan algoritmos de regresión."
      ]
    },
    {
      "cell_type": "markdown",
      "metadata": {
        "id": "lVtvLn0WkyRm"
      },
      "source": [
        "# **Regresión Lineal**\n",
        "\n",
        "En estadística se conoce como regresión lineal a un modelo matemático que se utiliza para describir una variable de respuesta continua como una función de una o más variables explicativas.  Dicho en otras palabras, se busca una función que aplicada a los atributos se obtenga el valor esperado de la variable objetivo.\n",
        "Los modelos lineales predicen la variable objetivo de manera simple basándose en relaciones lineales entre una variable de respuesta y una o más variables explicativas, es decir la variable de objetivo es dependiente linealmente de la/s variables explicativas (atributos). Como ya se ha visto en apartados anteriores las variables de entrada deben ser independientes entre sí.\n",
        "\n",
        "\n"
      ]
    },
    {
      "cell_type": "markdown",
      "metadata": {
        "id": "c5-LNbp4kyRm"
      },
      "source": [
        "## Modelo Regresión Simple\n",
        "\n",
        "En la regresión lineal simple, se busca la relación del tipo entre una variable regresora X, que ante cambios en la misma provocan cambios en la variable objetivo Y . La ecuación que representa a dicha función es: ![RegresionLinealSimple2.png](data:image/png;base64,iVBORw0KGgoAAAANSUhEUgAAAsgAAAEfCAIAAADTGqcrAAA0M0lEQVR42u2d249VRRb/N3+A4zTwSOaBxmTIaCAD6INiggmNlwkZI4RrDAlELhIT0ZGLGmNEbqImBLkYSYgRgYDRkKEH2mRIFE2Q1tAPhAegHyY4T7YY/QPmt36s36xfza69a++zT+1z9mk+n4fO6XPZu6p2Va1vrapaNeE///lPAgAAABCDCQgLAAAAiAXCAgAAAKKBsAAAAIBoICwAAAAgGggLAAAAiAbCAgAAAKKBsAAAAIBoICwAAAAgGggLAAAAiAbCAgAAAKKBsAAAAIBoICwAAAAgGggLAAAAiAbCAgAAAKKBsIA0o6Oje/fuvXz58vDwsPzb19c3MDDw7LPPPvnkk91OGgAANB2EBfwPe/bs2bx5c39//759+1RJnDhxYsOGDbdv316/fv2BAwe6nUAAAGg0CAv4/4iAOHjw4OzZs8+dOzdp0iR7X9WGvPj6668feeSRbicTAACaC8IC/h+HDx9et26dvLhy5cqMGTPcjy5evDh37lx5sW3btrfffrvbKQUAgOaCsOg9JkyYIH937979yiuvxLrm2NjYfffdlzffYcJiwYIF586d63YBAABAc0FY9B51CAub7PDdFcLg4OBTTz2V4LEAAIAiEBZxkBH/kSNHTp06pTsp4lr9FHUIi2nTpt28ebO/v//GjRv+p7r2Ql4cP3586dKlNeULAADGAQiLAi5evLh///6TJ0/K69mzZy9evNg35yMjI2vWrFFJoZw9e7a+zZnRhYWkf+bMmUmOQ2J0dFQER3Jn3+n169fdRZ0AAAAp6hUWg4ODb7zxhlhcsUkHDhzwB7tqI5W84XIXOXHixLJly1JvpjZNjI2NPfTQQzLcd78j/06dOrWmVEUXFjYPkqmHHn/88fPnzyfd2xIiJfzee+8dPHjw9u3bCxYsOHbsmCtu3E8PHTq0du3azqcQAACMGoWFmSvDN7diFVasWKF2q2nCwlYs+oi2uHz5sr42uys274UXXuhAFKnowsKy8NNPP6Vstj4d0YVnzpyprCp0JqVagiUNkjzXG5RaXjpnzhz7lJkaAICuU5ew0OV+OoI0u5U5oDT9UX64aResRsmRt97F9bVIpkQ6qHNCZw3MpdHJ4FHRhYVe0BV2IyMjkvddu3bJa8n7W2+91c4MiD7iagkWUSKFfOHChSlTpui+FXkiP//8s32qiz8UwmwAAHSduoTF4cOH//Wvf+mEve0pyNysqLahpfn7DggLW3aQ2iXhDqDPnj27cuVK9c93chNmXGFhOV2yZImY8MTxAYhaqiYp1NXx2muvaTlrhAybZ5H6sG/fvpIlJrLGoom/+uqrO3bsSP77BFXVSc0R2XHt2jV5zYIhAICu04nFm2JmJk+erK/926kZa1q4aLWFZmtT2bGhs/7t8JLGuMLC4mK5HiNbHCOaSZ5Lq+tF7Jrbtm3btGmTWP25c+eKGpg+ffrzzz+vK2ErrG81hSpJnT9//uzZs+W1qAp/fywAAHSLDu0KsUFwapmF7TiodbVjBcLee3f5Ra0bQDKJKyxsNsF35NhkUAXlJEW0fft2+bk83+eee04KU9TA1q1b1cFjzoyWMIUqemVoaEjqDKoCAKBpdEhYmPVKmWEd2jbNXZGUWBZgRtfm+yMSWDdahpamZjSCRZLlTDLZV/kB6UGptgxCrrN8+fJ2lkFYapNuSDoAACikQ8LCfOMpU612omnuiqRIWNhsSFJPLKyOCQvzAbj7XFwmTpyo2axWT8xvof+KsHj55ZfbedamUNlZCgDQTDokLMxSumNffbOZUaJVWORZaHf1aF9f3/DwcCeFUcSpEFu1kOeTqBzE4sSJE0ePHs2cClmyZMnGjRur+S1MoeKuAABoJp2LvKnm0DXVYrS+++67ZgZzzNsVkvzvtI7uCskb7tdERGFRuNe3mrCoafGmuyWn1qDpAABQmc4JC1u/qXdUd0U1h3Zn4ljoNE0qjoXulUj+G8fCDHOPxrEo1A0WGrWl6arUdlMtpWrbTV00poW86PwWXwAAKEnnhIUN9DW8o+gMeV1toN8ZYWHTBD5m1dx43rNnz37zzTd7K/Km6YbMauCeEtLOGtV2AmQZWn9EiX7++ef69IlaAQDQQDonLMw9Lnb96tWr8rr5cRJTgR2VJUuWfPDBBzZ9MzIyMm/ePF3haPTEWSE23ZM3+o/lj2knpLeisbA0nZaq5tcfAIC7kM4JC1u/KQZm165dYqsauGbTx53+EMO2atUq/zQK+Y4utrB3euJ0U5N6mbrBjQPW4dWpioqJn3766fTp05JOC6dhniRb9ivvfPzxx34oMwAA6DydExZu/M3+/v5Lly41cM1mZTRgg9g2tcSZR7nGIpawMH9M5vFv9mm3TvayAN6KraK1iqS16Nq1awsXLuwVnQoAMO7pnLBInOhGOLHbIZawcINNuUezjoyMbN68OXUAW+dxV9KkxI281q0llngWcgIANISOCgs1Fc0MXNFDRBEWbmisNWvWXLhwYXh42HSGvLl48eLVq1d30aukuqe/v3/fvn2peSX3PPctW7aw7xQAoDl0TliMjo6KuRI70cmQD+OSKMLCX6kAAADQPh2NYyED0K4sAwQf21tBCEsAAIhIRw8hw4Y1B1vB0MCDWgAAoHfphLDQ5f3d2lwAmeh8SuZ+EAAAgMrUIiw0ZMXZs2f/+Mc/6qnZDTwY/W7GQmPxXAAAIC61CItUBAJOuG4aFhoLNxIAAMSlFmGh8/d9fX0DAwNbt25NnQ4KXceCX/lntwIAALRDR+NYAAAAwPgGYQEAAADRQFgAAABANBAWAAAAEA2EBQAAAEQDYQEAAADRQFgAAABANBAWAAAAEA2EBQAAAEQDYQEAAADRQFgAAABANBAWAAAAEA2EBQAAAEQDYQEAAADRQFgAAABANBAWAAAAEA2EBQAAAEQDYQEAAADRQFgAAABANBAWAAAAEA2EBQAAAEQDYQEAAADRQFgAAABANBAWAAAAEA2EBQAAAEQDYQEAAADRQFgAAABANBAWAAAAEA2EBQAAAEQDYdFoJkzgAQEAQC+B3Wo0CAsAAOgtsFuNBmEBAAC9BXar0SAsAACgt8BuNRqEBQAA9BbYrUaDsAAAgN4Cu9VoEBYAANBbYLcaDcICAAB6C+xWo0FYAABAb4HdajQICwAA6C3qtVtiF/M+6uvre/DBB2fNmvXEE0888sgj3S6Hlnn88cfPnz8vL77++uv60o+wAACA3qJrwsKlv7//6NGjvSUvEBYAAAA+HRIWu3fvdt//4YcffvnlFzXMxrZt295+++1uF0hZEBYAAAA+HRIWeXcZHBx84403hoeH9d/169cfOHCg22VSCoQFAACAT5eFhbJhw4aDBw/q67Nnzz755JPdLpZiEBYAAAA+jRAWwtKlS0+ePJncWW9x48aNbhdLMXUIi5GRkd9++2369OmTJk3SdxAWAADQWzRFWIyNjd133323b99O8p0W8p3Tp09//vnntjhj9uzZAwMDq1evnjp1qv/9ixcvzp07N7mzwuOVV15J/byvr09+u3HjxoAsGB0d3bt379DQ0M2bN5M7omfJkiWbNm0Sw18oLOTu+/fvHx4e1t/q7f7617+KhMq81+HDh9etW6ffvH79umoLhAUAAPQWTREWiTMhkrnS4sSJE/IFVR4+Kh1Sb7rCYsGCBc8884za+BTHjx/PNPZyx2XLlvnvi+G/cOHC5s2b84SFKJjnn39eHTA+kpJjx46ZT8KYOHGi5e7QoUNr165NEBYAANBrNEhYDA4OPvXUU8kdP8Tly5fdj1wbL7LjL3/5y+9+97tff/31m2++ES2i9tiXIyYslixZMjQ0JF+TKy9evFg/PXXqlC4adT0EfmKSO1Lg6aef/tOf/nT16lWRFKIY5Cf9/f36c19YuNM627dvnzJliry+devW0aNHVYv4GRSmTZtmuse0DsICAAB6iwYJi5GRkZkzZ/rfd2dJfO+C/GrevHn6acrGm7BI7qiHTz75JDXDMmfOHBUH/mXNf5CpVxYuXGjehdRNTQOJmpHXqTyaVyYzI+pTcbfdIiwAAKC3aJCwyPv+nj17Nm/enOQHujABkfIE2Ps6eTFjxozUD00EpK5s7y9YsODcuXP+HV0PSkpYqFjJ9IIkjkgquUYVYQEAAL1FDwgL8yvIaD5zkWbizCO430kt3vR/ZV9ICYiAX8FPlSssRkdHRTEkOe6K1MUD2XELBGEBAAA9RA8IC32zr6/v559/zvuhWWt3R0llYWE7Pq5cueL7OVLfcYVF4R0TxwFTZp8qwgIAAHqLBgkLd0mEfd8WXuTNSihmrV2LXllYlEl2prCwLaNlQFgAAMD4o0HCInNXSJ7tT9EQYWHJKAPCAgAAxh8NEhaZcSx6S1iYxyIwFdJqASIsAACgh2iKsAhE3iyzxuLVV1/dsWNH0pg1FrFOakVYAABAb9EUYWHuCn8fZjN3hWQKC5FHkydPTnJCYNlNv/32W3mxaNEidoUAAMA4oxHCIny6aeY0h0thHItWhUVhHAt3nWlqqUThGSKWWf8LHEIGAAC9TpeFxeDg4L59++xQscxTQtxZEt8Yj46ODgwMqLsiJUoqCwv3jnZsh5vmlStX5kXedFWOXDMVI8s2ufgzOxxCBgAA44AOCQsx7e77P/zwwy+//GJ6QgmsS2jzrJBWhUXqjnZWyLfffvvPf/5Tki22f+LEiapmfK1jPgn5mqTqiSee0Pf/8Y9/WGoDQcQTDiEDAICepUPCIkx/f//Ro0fDey/Dp5tmipJ2hEXiLAj1U/vZZ58FTjcN/FbJXLrBIWQAADAO6JqwkNH8gw8+OGvWLBnQF4ZzUMbGxo4cOaI+A31n9uzZAwMDq1evzlwF2aaw0C/s379fT0bV261Zs2bRokWTJk0qDKA5Ojq6d+/ey5cv68pTvYvkNy+1HEIGAADjAOxWo0FYAABAb4HdajQICwAA6C2wW40GYQEAAL0FdqvRICwAAKC3wG41GoQFAAD0FtitRoOwAACA3gK71WgQFgAA0FtgtxoNwgIAAHoL7FajQVgAAEBvgd1qNAgLAADoLbBbAAAAEA2EBQAAAEQDYQEAAADRQFgAAABANBAWAAAAEA2EBQAAAEQDYQEAAADRQFgAAABANBAWAAAAEA2EBQAAAEQDYQEAAADRQFgAAABANBAWAAAAEA2EBQAAAEQDYQEAAADRQFgAAABANBAWAAAAEA2EBQAAAEQDYQEAAADRQFgAAABANBAWAAAAEA2EBQAAAEQDYQEAAADRQFgAAABANBAWAAAAEA2EBQAAAEQDYQEAAADRQFgAAABANBAWAAAAEA2EBQAAAEQDYQEAAADRQFgAAABANBAWAAAAEA2EBQAAAEQDYQEAAADRQFgAAABANBAWVVi6dOnJkyflxYIFC86dO9ft5EC7jI2NTZ482X3n66+/fuSRR7qdrkYwZ86c4eFh+3f37t2vvPJKtxMFAM1l/AuLadOm3bx5s9VfBYrl8OHD69atkxd9fX0XLlyYMWNGt7MIcdizZ8/mzZv19bhvFy1x8eLFuXPn6mskFwCEGefCwh+JliHghxgdHZ09e/bt27f7+/s/++yzXlEVZhh6wsXSrdT2Vil1mAkTJuiLvB7j8ccfP3/+fILyALjrGefCYnBw8KmnnpIXogbef/996+/MjeF2ghs2bDh48KC82LZt29tvv515QXULy9XE8EyaNKnb+SuLjcV7wo/drdSasAhUgLsWFRZS8y9fvhz4QoKzB+CuZ5wLCzVRfX19169fNx3gujHc7I+Ojvb398uL48ePL126NO9qPacqkl4bTXYrtSZozp49++STT3a7GBpEoeRqoLNHpyyl7f/888/dTgvA3cU4FxZqolJCwdwYfieoo648e3bixImjR48eO3ast1QFlMTW5N68eXPq1KndTk6DsHVFeZq7gahzccmSJdJsu50WgLuLBgkLGfTs379/aGjo9u3bSSSH6sQ73Lhxw33TBqb+8EuFRXPKBDqJVBVdPZOqMNBzksu8j4cOHVq7dm23kwNwd1G7sBgbGzty5MiHH34oXVJfX9/AwMDWrVv9NY/ugvwkOJXbPuZp9z3eIixqvTU0FjNFjHF9dE1SD00r2HqpK1eu9MoKa4BxQ73CQlSFWHF3E7yScqiao9VYv379gQMH3HdeffXVHTt2RNmLoQPTpMXhlxibL774whwqoj8WL168evVqf1rk4sWLL774ouRaOmLJheVUTNfevXvlOnoFG0up9tq1a5e8v2DBAneqRb787rvvagFKmbz11lv2kTp4LJzG7t27/WKxnCr+FI+U/DvvvCPlkCrYMhd3kaxJFr7//ntVbKogn3322ZZWKnQytfIg5FHqAl5J7YMPPig1QU1R4RhXbvfpp5/azyUxkln30egttm3bpklyHWOuzpYfPvfcc4WrUzMrXupXZaqc3G7fvn3hJ6LJO3XqlLVZKc9Zs2ZJ00uyJFeq5RYusNB6InnR62eONCQN7733njyLlppDKgvuKMUlb5azTMIAoCT1CgvzDfiYt8CWfUlj3rJly6JFi3xjPzIyMnPmTH3dpqfaLlX+OtJVrVixQjIiP9m+ffuUKVNu3bolQyLp+PxQFinXiw3ypE/Un9hH2sdJetasWeMHILKbuikxvaUyy/0oLzt5sRnk+s8//7xaPsWsQioLhWVlK2TNpA0ODq5cuVIy6wvEMB1O7fz588UySQ1cuHChPZrAilExP/IQ5aGIiZXyl4qauWjRsm8/1HGz/6yT4M4XufiqVatEgsh3VMJm7pfxq5wuVfaTkQTFtH1fLq7NUPIrObUEZyZVviM2WDVWIC8qF6TQbH+W/dBdWx1oDqkKkGQNPwqD1vjdXcmEAUB5ahQW1udaL6zDArWI0mil+5A3zcsaCDblxudJ2lsDIQZ+2bJlSSse78wtppkCRR2wOuS1aWkxVCpEdu7cKe+bGZBcyEXmzZsnV5Bv/vbbb3pBHaWJJpPX2tNZmvVXcil5R624xdVIciyiFZ07xaOeJCn2M2fOTJ8+/aGHHtLuOHVxTV7g4pZl//FZmlva2dGx1Grds/ddoZZXu+z6KXtmD1rVg2Zcx9NffvmlFoJYR3ms8nOxWNoW3DBrmdbLCjDl3lO/jgnWQJWTn6siSe5IfLXWebbfbpeaH7SVzoFSDcwtuk/Qb0RWCJr+as0hUIsKdW3JhJWsvQCg1CgstJvz7bf1C9JlPPbYY2plw+YnosfCJl9LxkgwHeCn0C5lXb+88+ijj+pr+6H0TdJJ2c91Ll8Np+RLvmPOXl06Kr2h2AyxnW5PZ9ME8qkUoGvFLRlhYZFyyK9YscKmDNQwqD9Grlb+4oH9mbant6UlC7Wm1qyF/6llJM+ZbwLOz06qhsinX331ldozy47UkHfffVcUqmvnLFS2nx4z575hMyuuLTezysnjWLlypTsnYo0us9pb+/I/dTV9YWisn376KXN8rzmVR3bp0iX3C3ZxvW9ec5C/0ljc5mCeicwkWTkU7mEpmbAEAFqhRmGhtjBz8ZS1fBl4qeu1sPXGWmMR6M19xKTdd999eTsFrPfPtJ02CJY8qq+iMG3ak8q9RFikRrHupFLKituNwrY/0MmaqZbOuvzFbbVjnjHW7LS04q8Dqc0cxQY2Crk39V0dSXDHhNknubX8NrUoOE/jWq3LXEcc2LpiuZBPpU66GbG6mtnW1E5nXjPTh5T5oAsn43z1Gd7F6jaHVLFbK87svkruYamcMAAIU6OwCG/dNEvZyV0YeaGx8rDuONMauatDfNtpGSwZMih8HIOFNfQtn90osxsNf9rOxX2HTd5ly9exDqQ2rHQznfk23PerQVhduQLaVyR5AUYDBRt2PATaVECx2TUz3f7lQ2NlthErn0zZYdOg/mSQ2xwyd28l+VImNVuUSeWEAUAhXRMW1nF0chazzPDLpTC2dMB22kcl957YIMk3UdYJZvZ04egLhZ2sucFburgr0fIc4BWERd2pzXvuJcVZSpTY2ka549DQkP9DGzpn1p/M2mXuCr8QbJFpnlS1+TJfmAYG8Tb6z3yOhT6k8HIEd0LQ/VSy+frrr+t6l08++cQXc4HmYHUgLGXCc3CVEwYAhXRNWLiDuY4NCwo93ikCu1pSpPpr6/vKRzi2rt8fnwUcJ2EPvyUj0MlaD+6XSaAHD0QvVcLunEzqS60NyvOee0Cc+UNbydqtW7e++uor9Svk7XtMHEufabMzI5envCNi565du3b16tXPP/9c52K2bNmSqXEt+y1NoFju8iRX4bRCau1q6lNbDKE/l0T++OOP33zzje0mzdsbHGgO4XmKsFOn/YQBQCG1C4vwikKlY2c+WW9VcurUun7p5ZcvXx745vTp013LUWFVuRkh/4nY0gG/k83bO5D6NNDJulsJ/LgReT24JSnv2blLdEtKq/pSa5MLmTMdYUHj7kFQxBKLWZo1a9YDDzygG1Yzk1qok8xV4NpsS6ohJl9u8dhjj91///2BAbRl3y+99iVXQB0G1lGaajEsZIjYbCm6gCcv0BzCWie85Kj9hAFAIV3YFWLb9txdIYXHPkVZvNlqaCwTFq0uDg9vT/AJT9WnNgJk3igzR2WSETAMgR7ckpQn0VrdfdOZ1GZe2UxR2Jnf6slk4bULNjuT8iIU7rCoUHoByRWe7AsvT06K6m3l02LDlw3P/YXXdbaZMAAoQ43Cwo0YYXEsTp8+7S5nu/fee21GORDHIsp2U3elQknnfAXrqIS3wwXKKvNGgROrA+v5kxKdbOUevPAAUiuB8jGV60ttYLWHrWnIy0vlo1bDOslsdsq2VT58vA7JVSisw5tNCpco5RFoDuEFFoWLadpMGACUod7Im2YqfKwjc6MCW8i/1JejBMiqEBrL0tZSMAbr3crPAgQmOwKr7sPO9jKdbJ55S4p68LBBCs/3hwutjtQGrHVhaKzKwiK8KDLP1VRNWIRLr5pALBMaK1Bvkzbsd+Cy4QUWJUNjISwAaqVeYeEGQzT85db+vHKqX4jisbDeqnxv4t63vGs6YP/yCBihwHKNsJ+jTCdbZvVGpic/bG7DaxoyqTW1eTt09ElpSIw8QVM4QeOGqDLCG5sDS27Dvq5UrLBURpKsKhfeJZE3paUBwUSRaGLyKn94N03hohk3mJhLoDmEtw3nLTQRJSF/7Z3KCQOAMnTidNPXX3/djkEaGBh4+eWXU32QfxCA38u3v8bCequWJsvd9ZuZrlfp6FetWuV2ymb/ykfXCezLDyxX9KOCyjt/+MMf9KZ+9EC/uwwYBv/irgUNLJErs7nDp9bUZsacVtUr13/ttdfkguZeSsV/DCxvtFjj/iyeO9zPm5vI3A8V0GQW8dqNQZnKvl/lwgWbuU9K8yXtRV5rYjQLvqxJrf5JfSG85URzGg6NFXCxZN4xMzv6BN3yrJwwAChD7cKiPO7RhdGjZrnrwKudXpHcsZR24KFc8Msvv5R/5bUbOznJD3tQeItMSxwYwroe3dWrV+v+e+sQU5fVwVxKHgWCY7ob/RctWpS6uJVnytzmHb7QaiHETa0NZCVVYtFFlOiZcPKpXN/M2KVLl65du7Zw4ULXeLuLMPTi8r6uFtq1a5e8mbk2yD0YLDXsVjuXt6jI3aZrjj2RFJIFyVFeqQaqXLhg3bggZ86ckXahB6XKO3IjOwZPLnvPPffIFVIqyr1v+AtyRx1RSHlKw1ExF57OCLtYMu9oes4ikml+A7HUyicMAErSIGFRH3Yopf4bCDyQiX8wqZHpQWk1lHVerJ6kaGjlDosVt0P099SlutdwD+5vs0z1tu7sg5pbO7xbLvjBBx+0tKmh1tS64sAw45qKVuIn3r+4EvCfude0+qaHmIs+CDve/JlBJXWGuEugyvkFm5JrfrAWky+pc1Pl/Y8++shNdiqpfr4yJ0M1qSk5bgSag3/HlD4LP2iXCgkDgJKMf2HhrpNwaSnjei7r0NCQrUWVXj41A6JknqMdpswCuryVBzYl4XpTDJNEYhLefPPNlGu9cAlb+OKa2f3790uxaActd5kzZ87y5ctbWuTYmdTKExSlopNK8oWNGzdaIqWGPPPMM7q5Zvv27ZlGRb6zc+dOy2ne0zfMCyL3KlNtUshz37dvn9YKMXUDAwNugv2nEK5y4YLVc8M1MJR84aWXXnIFmTotNDCXHt2e+q19QX6Vqdd1MlQKQR1vcovFixf7lzLCy3cK76hPSh90Zn4rJwwASjL+hQVAhwlvUQEAGN8gLAAiUyHuKgDAuAFhARCZ8PEZAADjG4QFQGRajbsKADCeQFgAxKTwvFAAgPENwgIgJu4e4JJn3QEAjCcQFgAxcQ8fSTg/EwDuPhAWAAAAEA2EBQAAAEQDYQEAAADRQFgAAABANBAWAAAAEA2EBQAAAEQDYQEAAADRQFgAAABANBAWAAAAEA2EBQAAAEQDYQEAAADRQFgAAABANBAWAAAAEA2EBQAAAEQDYQEAAADRQFgAAABANBAWAAAAEA2EBQAAAEQDYQEAAADRQFgAAABANBAWAAAAEA2EBQAAAEQDYQEAAADRQFgAAABANBAWAAAAEA2EBQAAAEQDYQEAAADRQFgAAABANBAWAAAAEA2EBQAAAEQDYQEAAADRQFgAAABANBAWAAAAEA2EBQAAAEQDYQEAAADRQFgAAABANBAWAAAAEA2EBQAAAESjC8JidHR07969ly9fHh4eln/7+voGBgaeffbZJ598stul0WhOnDjxxRdfDA0N3b59W9/ZvXv3K6+80u103dW8+uqrO3bssH8XLFhw7ty5mu4lDae/v99958qVKzNmzOh2GYxz9uzZs3nzZvt39uzZ0neV+eG0adNu3rxp/x46dGjt2rVdycKcOXO0s1XoN7rI2NjY5MmT3Xe+/vrrRx55pNvpikynhYW2Uukf9+3bp0pC7OWGDRvEWK5fv/7AgQMdS4l000eOHPn+++/Pnz9vb4phmDp16qOPPjp//vxJkyZ1smQCSF1csWLFd999J+WzdOnSkZGRefPmSYl1sasCQyqSKGM1IR3osl0pg7uxM7iPeNu2bW+//XbJHw4ODj711FP6urv24+LFi3Pnzm1CSiD5X7U6LltxR4WFCIiDBw+K5JdRnWu2rZQ7U+PFTr/++uuSksB3mtP2JLWPP/64DDiOHz8uqkLfVOuSOWCVL6tUipUFezoMdPKIXuYBzELU6h3pUSZMmKAvondrpufOnj3bkm+1viQ1p3CgVcZ9K+6csDh8+PC6deuSLP+tlXJLo4FqyHD/mWee0cFHf3//9u3b1TkhgxK5+8mTJ/VrzWl72qNJUm/cuFHm+9G7j05azR7Fiuinn36q29Flg+AONJbeotbOutojNr93+QmU+tCeoQkpgU6avK7QIWEhDey+++7Lm+/omHwT9SDtStcoZKZEp0Wb0/ZsWr1k/aujJJs20BFpOHPmzKRJKww62WWbA6nVofO4p1bX2sSJE6XfaPURN8d+NCclNaEPqFdmh8d9K+6QsLByzDQGHRuE2SKmJUuWnDhxIi+dHV7tEcDcPHgLDHXh9PX1/fzzz91Oy//FhE5nqo0NnUUBT506tdu5vytoVd8b1u+585hdwXqSrqekDsyCNGewEUYegXrHx2sr7pCwUE9Anj9f114kNVd6a+SSjEuXLmX6M7WCNkf2mhJqiLegCWhdypOGnafDXbZ6R8pPjUH7SE1btmxZ0vr4sjkqcHxbMrUgzRlsFKL+lXHcijshLGxIl6n3bTQg1eL69es1TVG7kyC94n2ykmnO1EzXsS6+OeLPZHEHRkvWlJqjq+4GbOVmq2to1H40weCpHG9CSqJj/WSvNIqeS3AFOiEswvNJnVkbaL1/m4sPNJjE8PCwLv8Ukz8wMLBp06bC7ubixYuffvrp0NCQrRuVH7711lt5P5Tvv/jii+7uc8N/ZDZoVgrzqFttJTF2fUmPdD2vvfaaPgIzYIGbuoyNjZ0+ffrzzz+3vbuShhdeeCH1uCWd77zzjvquPvvsMzPDktn9+/friEp+uHv37kwLbTuT/Y/yptVLJqwkkoCjR4/apeTpz5kzR59pYZedKnMN37J169aWtIg96LCuklzLvU6dOmX3evDBB59++ul7771XHrHct/yUjT0auYjudnY/HRwcfOONN+QumZ9WSIy7htodh+hFPvzwQ20+bo9sY/FwTWinZNRxaPpeWsfOnTsLq2t5FRilbmRmUFM4a9YsFUaFKWm1mwqTCr0jBbh48eLU07GOLlWFNNyRXEFH9haewE9wXj/pdoNlep4kf2yQavhapA8//LCk6sYdAk9WcmHlqfVt6tSpaow61orlUu+9957cVApTEn/s2DH3gbqfxhqwdUJY5C2o1vAM8pEU2ZkzZ+pTFbZ0NGnDXy3dxJo1a+QZS+OUViqVQyuNuuAuXLiQ1wvI18QcSjbth+Ellu7ed5880VA+moIOv6SRv/nmm9JWpXCef/55bVqutnPfDysVabTSCcoL7RcyL+i+mcpIKgBRkuXnN12YR6YqLZOwCk9fe/zUpuVAEWm71TJ///335b72sFr10lk5BNIv9WflypVS26UaLFq0SCuqJNs63/ILBVLFnhJPqU8z/botJca+bD/Xjt7dyaWkanjJIA2VS0ann/RT85m5xSJX8OcX7JuB9hixbpTJYCAlrXZTYeS3q1atklzIHVevXi25yFxam2r7lmW/JiTeJI7/IFLojfyex9RVKrpdkjV8Kmz4AXey5k4Fk+49lGJZuHCh5aszrdgCFtg7qdVgbvy0WPO5nRAW/qywPC2pwbt27UruDDgqKGLbqlDGQlgVrOwJtJhU/gI99THmtb28H9owK+A/L/MdFxNweXM9VsNSoUSsB0lVBmv2gUpss5uutEqN1fS+UkoiH6dPn/7QQw+pkZDbyc/lC6nAX4HHWn6FQZmEtfr0U+XgBtELuEwyy7yk7yGFBXPMa7ZW1VMdhOuCKjMVaDHZPvnkE3lelk27r3TKUrzyqVzKKmoqVS0lRr8szUR6g9OnT2vhSKlKy5LCl/c3bdp07do1rah+9bAOIW+2onLJWOuQT3/99VepVzt37pS+PrnT4rRHzly3W6gC49aNvIUgZYJ0tdNNlS/q1MSQlo/m0W4kKbx165b8XBWJW8h5TSywkCXc8wwNDR09elQKRK/g9+GBbl/zkuT3jdb/pERnmQB3sVqxpUQuKN3glClTdIDt2sHU8CDWvEHtwsLvyk0faSdSzcnWkrCwWltt3b45PDLFqVUUv+3Zwg7fjJWJCVZoRVIUbrW3up4aCWnX6berwj1RgbzrA9JrqpUyj7GmU4OISJJcwx/ui62LL3yOJRNW8ulrf5T5k8J6qLXdXy9seSm/N9J0TEDFalvLvKYltczyvdQj86uiPKlHH31Uez0Lp+uqvVYTIw3kq6++0sfqFo4MP7Zs2WJX0JT4NTy847edkrFWICZQ7L1bo8xmZyrdwpXXEetGIIOuOyczJW12UymsTHxVZB2UJsOvQsmdrkZG6u6cSKHjJzDYyOx5dAZTLmvdoN7CHzYEGr7lJXOIH9jNZzntQCtWJHl2YoZ1jJowzbiOvkS1y+tYeqB2YZGpvm1qVgpX6lCFVcotCQtTl9WWbYatndvvZDakTE9p4SJtW+BT3gSGR/PW4Ms7u8Jr2gM748M7ME1YyGVTTyRV71M/LLn/onLCMrGnn1kI4YFyQJlV2EtSuCs7sPfKREm1hejhqpW5SbudxFhOdbVBoW+pUHG2kxhrqpnrSPKivBSGxopbNwIZtMLJS0k73ZRfmIExWGArhLtlT/SNW72tMmQa2pZatCo5yakko9AHE274phr9T63rzkxSoRu4vlac/K/smz9/vjwmeR2Yx69M7cIiYJWtQlfYDFJeWLjuowqBEa2WhHvVxKv3JrT96lVGNISbk0/JvrWlyaCwObFRrN+0wlLMnp3ftMJSpqRjtnLCfArXbwcGyuGaY4+jfOUPO5DC+2XKO3t8rAXlVVd9Lm6q2kyM5bRk+YTDRbSZGBuWZNaBPGERDkgVt26UzGBmStrsplIEAgeEHQ/W8P2mFH64LU0b2cMq7FRLNvzMxxfeJtatVqyYNJHKoEtK61AVSQeERcCfH1Z2sbBHVU3l2Rg6T2DmCQtrKqnqZWtwJD3yaPPGAa2eTRBuYBVCkIWXI1gV9z+1lIRHGJn9Znh7dxltVDlhFZ5CuJ3nubJs8ZdkRNcolElJUqS6bAiVqZ6rTdunsplXbhPv4D6yNhMT9jP7hBVnO4lxT5QNu6zy1idlZiFu3QhnMJySNrspF3NX+C3UFi3maRRTb77iD3tNym/2tmpcxhCEG36gbyz0VHWrFRvuobv1RV6oV1gUlrLVp8xk6KdtBugtnNMKY086b4xrFcV92P6IRKr1rVu3vvrqK20GhetLWg2tE+5bWx2pJ0WVODU0kfz++9///vbbb3VDYGB7mF221XmKkuOnygnLxBphuJ1ndtkpx4nk7scff/zmm29s01feNsU8AkERCkOetBNsIzDZl/xXuLsl0H5iLKclh+z1lYwNSzLltfVv/q3D7TFi3SjMYMAwt99NZZaVtl8pnGvXrl29elU3e0sRuWtlXKzhtzqBkrSyEK2lcUW44Qf8CvZR3hAukJ1aW7F/kVpDAdUrLGygnOeTCASxsFJuc52qtasK8cLdZf950yhWBd10+luhNFDErFmzHnjggTJnsrcaYDHcwFpdB5oUaRFX9irSG/7+97//85//LC8Cld5d/p26bNhOl5wbqpwwn/Jddua6XRvpKraFXb4pFaDVdUVhB1Jhd9ZOfKTCmiB/3VraZmJa3bkTVpxtJqaky8q/dRmtY7RTN0passyUtN9Nufh7wqXhyBUee+yx+++/P6DmAyY/PNgoXM7sUn6HSzsG3j5q1dVR5lFGiXJmpV1roMh6hUV4rJMEhYUZkjZPjLRbVPB8FHrP3D7CLck2z5gJ+PMzKRzNV4gDHdYilY/dClw27PMMr+tsP2E+4X38gdFqUsOZT+Ep6vD5W9aUqkX6CzjPtJNKPZE2E1Mm/EPHSqaaazrcHuPWjXYyGPcorMpn/AaUa5TBhlJ+cNVOww/He7ROLNMg1tqKLfGF23ejUK+wKIyqWWHzTOU0tCMs8gx2nqe0zXCira4GCDewCoFuwkOBypFzwh1u2OcZ7uLbTFgm4XYenmKLftJm2G0Qrm/tNIEkf75Sd/nLUDJvBW61xLQ6bRdWnG0mJqxT86RwO1qnVdrJYNyox5WPQW5/sFEojFpaiNpOww8UghunsfOtWNGYFvIisN4lCvUKi3BVc08JqS+CfZkoT2qYA1vAw+vhE69mt9liA/MFmVR22OYRXuxZ2X4HLlu4bayM06VjwsI9eqYDxiMpCopQxvOXVK2NmcZVhz7ywo3sFCUxrR68F1ac7SQm7DgMiO+w1umYsCjMYBOERXgdXniwUX4hWku+jXYafqAQCkNj1dqKEycimR1xUJ/1r1FYFO5Ss+eXsiVWvkkMH52NHvKGHRYIxb9X2FAFpuIKR11ucBifyqGxMhtYWK2nYsikHk2mB7JQ/sujl5+nItInQQEU3meVV5fkAW3fvt3eqZywTPLqZ3LHmEnnos8ovG0sryNz40GVITx0zttGof2g9M6BlWhhMovUAhpmhrJuJzGFy73zSqbQ9lRITMmRa95G+qRo6V+UutFOBtvsplKEe63MfiYJDjYK93xm+tK0csrALDPeZRmD0k7Dz/PBazY1eE/nW3Hy31qnrbhC3LNWqVFYmD8/b92N7U3yuyer8XmFWD6ORdgB5c45+fcKzwgEVgMFluFYp5y3gbjCoaapkHZ+G7YW6B/XotlPZcGveakuJrBq2mIz54XGSrIEUPiOmUF+Ml3x1RKWSV5kIUmY/LtmzZpUcD03weGHqNW7fPgj37qnFFKmW04frnSF8lpbU171KFMIdmvdiBiowO0kpnC5t08qlGrEkrEGHhi5Zrr0UiY2ddm4daOdDLbTTfkE1i1qU5Vc+/6twBjG3+ecklx+eDpzpKUKNhDPyqedhp95roJmX5L92muvuaE8627F+nylcDRGvnsUS0rMyTsff/xxxKNWaxQWVs/CUUQC+7wDfu+WIm+68XbsPBh5MF9++aU+6SR/xJMncfLCuSuumpEh+KJFi+S30qHIA9YTUgLNtULMCXcz+j333OP3+5YLaSqq5TX7elionwV31a0kXvfWu1+zL8gFP/roI7MK+/btk5SEpzMyZ77Cd3S352iL1Z3x8tTywum0lLA8TJCpH0XP3hwaGpKylauFi8geitz05ZdftjLXKtfSYT/utsBLly5du3ZN827dtBsdRM/z01MfkztTFXrUX6B6lLm1nmdx5MgRqcBSLO4RkSnaSUzhcu+8SlVHydjTT1Ubk+N5I2kTFnkFHrFutJPBdropH7PHbhAOSZ6MMKVppM5DMfICaSTeVJSOVN1nYXJBu0qTvP5INdDzZFK54dtw2npaPZNZPpVk11dXM0mdsmYl7EbwtJT4i6XaoUZh4W78c8+qVpmmO5vzjlpWQxgwAy0Ji6TE8Zh5fYR7UJAaKj3NVo+tCwSxyTt8L3Vur4/VhvL9i3/OZOoW/gF3St65sqnE+08q74JJvh4Kz1j7xZXKvjtBpmR2VRUSFsA/edVONXOPYEj+tzNV3DPVUlfIq/YBUtto/bOPA+WTyoUrucpgnawij++DDz4IO2MrJyZgZjpcMqlNoVYbRaRKVyZ3LDyZz/7122PcutHOo6/cTZXJeOChGAGT7+/LTVmEQPN032x1k13SRsN3tZqf7NST8ptS3FbsXi3VnZo3zh5Q3IWcdQkLd650zZo18kikr7f2L28uXrxYj9PN/Ll2FgHL2qqwSO5Ur/3794vqtKfubtrWfeR5eRElcerUKTVXuun86aefVoEfuKN0Hzt37rQ7ysNbtWpVYa9RoW91D6DPOy1WD2iWyqRPQZ9LIAumb+y8YP87UtetWKQwBwYGdPiVecHCNWvhO2pQQukXdDHXc889F1iE1VLCwsgQ5J133tHgWnJTt9Jagm3c6Ze5pFlD5yYlqn0AOzpckvG3v/3NH83r89UIS3Kjl156yWqaWz22bNnSagJ0EKZVa/ny5WWaW+XEVFgA6JZMZq2olhh1icmTffjhh//+97/bQ9TqFC4H97J6Lmtme4xVN9p89NW6qTzMO5j896iXjRs35pVVmW136lWVfL355pv+KE5ausa+C3R91VbLVm746t5Qsy1dmZt9t65u374909UdsRXbsSN+VMDU1aLvO61LWFTw5xsmVOvbg9pkWvXaAQAANIe6hEU7oVfUO1f5ALeepv1jZgAAALpIXcKi1aMuXNTRdHda1s7EWwUAAKiJuoRFhRjShooSXY47NjZ269atOs51bSa6zvnu9NYAAMA4oBZhURhFsSBNd0TJ8ePH58+fLyJj0qRJ9UUebRQ2D1Jf3BIAAIBaqUVYhE+OKcTdP1Zt11MvImpszZo1w8PD1QoNAACgCdQiLNo8Nt62GK1fvz5z+9A4QxerFm7NAgAAaD71HkIGAAAAdxUICwAAAIgGwgIAAACigbAAAACAaCAsAAAAIBoICwAAAIgGwgIAAACigbAAAACAaCAsAAAAIBoICwAAAIgGwgIAAACigbAAAACAaCAsAAAAIBoICwAAAIgGwgIAAACigbAAAACAaCAsAAAAIBoICwAAAIgGwgIAAACigbAAAACAaCAsAAAAIBoICwAAAIgGwgIAAACigbAAAACAaCAsAAAAIBoICwAAAIgGwgIAAACigbAAAACAaCAsAAAAIBoICwAAAIjG/wGdMcs4rXFwiAAAAABJRU5ErkJggg==)"
      ]
    },
    {
      "cell_type": "markdown",
      "metadata": {
        "id": "GAnE6i9PkyRn"
      },
      "source": [
        "# Librerías"
      ]
    },
    {
      "cell_type": "code",
      "execution_count": 17,
      "metadata": {
        "_cell_guid": "b1076dfc-b9ad-4769-8c92-a6c4dae69d19",
        "_uuid": "8f2839f25d086af736a60e9eeb907d3b93b6e0e5",
        "execution": {
          "iopub.execute_input": "2022-02-12T06:16:41.838838Z",
          "iopub.status.busy": "2022-02-12T06:16:41.838545Z",
          "iopub.status.idle": "2022-02-12T06:16:45.462385Z",
          "shell.execute_reply": "2022-02-12T06:16:45.461308Z",
          "shell.execute_reply.started": "2022-02-12T06:16:41.838805Z"
        },
        "id": "GKyQbyXtkyRo",
        "trusted": true
      },
      "outputs": [],
      "source": [
        "import pandas as pd\n",
        "import numpy as np\n",
        "import matplotlib.pyplot as plt\n",
        "import seaborn as sns\n",
        "import hvplot.pandas\n",
        "\n",
        "from sklearn.model_selection import train_test_split\n",
        "\n",
        "from sklearn import metrics\n",
        "from sklearn.metrics import r2_score\n",
        "\n",
        "from sklearn.linear_model import LinearRegression\n",
        "\n",
        "%matplotlib inline"
      ]
    },
    {
      "cell_type": "markdown",
      "metadata": {
        "id": "EWZaJE_XkyRo"
      },
      "source": [
        "## Importación y análisis exploratorio"
      ]
    },
    {
      "cell_type": "code",
      "execution_count": 18,
      "metadata": {
        "execution": {
          "iopub.execute_input": "2022-02-12T06:16:45.464764Z",
          "iopub.status.busy": "2022-02-12T06:16:45.464442Z",
          "iopub.status.idle": "2022-02-12T06:16:45.484555Z",
          "shell.execute_reply": "2022-02-12T06:16:45.483626Z",
          "shell.execute_reply.started": "2022-02-12T06:16:45.464729Z"
        },
        "id": "wNSLYioikyRo",
        "trusted": true
      },
      "outputs": [],
      "source": [
        "dfIris=pd.read_csv('https://docs.google.com/spreadsheets/d/e/2PACX-1vSLgU6YF5djPgcJvcmXyqdIjfVefPsYlj6HUnRH15sZwsEL4GX7KPY-c3CWgM3n8vCljid-ZPocdAAl/pub?output=csv')"
      ]
    },
    {
      "cell_type": "code",
      "execution_count": 19,
      "metadata": {
        "colab": {
          "base_uri": "https://localhost:8080/",
          "height": 206
        },
        "execution": {
          "iopub.execute_input": "2022-02-12T06:16:45.488145Z",
          "iopub.status.busy": "2022-02-12T06:16:45.487621Z",
          "iopub.status.idle": "2022-02-12T06:16:45.520562Z",
          "shell.execute_reply": "2022-02-12T06:16:45.51979Z",
          "shell.execute_reply.started": "2022-02-12T06:16:45.48811Z"
        },
        "id": "Rq9FXl3zkyRp",
        "outputId": "410ad2a6-cc77-47c3-bbee-6edb682454b7",
        "trusted": true
      },
      "outputs": [
        {
          "data": {
            "text/html": [
              "<div>\n",
              "<style scoped>\n",
              "    .dataframe tbody tr th:only-of-type {\n",
              "        vertical-align: middle;\n",
              "    }\n",
              "\n",
              "    .dataframe tbody tr th {\n",
              "        vertical-align: top;\n",
              "    }\n",
              "\n",
              "    .dataframe thead th {\n",
              "        text-align: right;\n",
              "    }\n",
              "</style>\n",
              "<table border=\"1\" class=\"dataframe\">\n",
              "  <thead>\n",
              "    <tr style=\"text-align: right;\">\n",
              "      <th></th>\n",
              "      <th>Id</th>\n",
              "      <th>SepalLengthCm</th>\n",
              "      <th>SepalWidthCm</th>\n",
              "      <th>PetalLengthCm</th>\n",
              "      <th>PetalWidthCm</th>\n",
              "      <th>Species</th>\n",
              "    </tr>\n",
              "  </thead>\n",
              "  <tbody>\n",
              "    <tr>\n",
              "      <th>0</th>\n",
              "      <td>1</td>\n",
              "      <td>5.1</td>\n",
              "      <td>3.5</td>\n",
              "      <td>1.4</td>\n",
              "      <td>0.2</td>\n",
              "      <td>Iris-setosa</td>\n",
              "    </tr>\n",
              "    <tr>\n",
              "      <th>1</th>\n",
              "      <td>2</td>\n",
              "      <td>4.9</td>\n",
              "      <td>3.0</td>\n",
              "      <td>1.4</td>\n",
              "      <td>0.2</td>\n",
              "      <td>Iris-setosa</td>\n",
              "    </tr>\n",
              "    <tr>\n",
              "      <th>2</th>\n",
              "      <td>3</td>\n",
              "      <td>4.7</td>\n",
              "      <td>3.2</td>\n",
              "      <td>1.3</td>\n",
              "      <td>0.2</td>\n",
              "      <td>Iris-setosa</td>\n",
              "    </tr>\n",
              "    <tr>\n",
              "      <th>3</th>\n",
              "      <td>4</td>\n",
              "      <td>4.6</td>\n",
              "      <td>3.1</td>\n",
              "      <td>1.5</td>\n",
              "      <td>0.2</td>\n",
              "      <td>Iris-setosa</td>\n",
              "    </tr>\n",
              "    <tr>\n",
              "      <th>4</th>\n",
              "      <td>5</td>\n",
              "      <td>5.0</td>\n",
              "      <td>3.6</td>\n",
              "      <td>1.4</td>\n",
              "      <td>0.2</td>\n",
              "      <td>Iris-setosa</td>\n",
              "    </tr>\n",
              "  </tbody>\n",
              "</table>\n",
              "</div>"
            ],
            "text/plain": [
              "   Id  SepalLengthCm  SepalWidthCm  PetalLengthCm  PetalWidthCm      Species\n",
              "0   1            5.1           3.5            1.4           0.2  Iris-setosa\n",
              "1   2            4.9           3.0            1.4           0.2  Iris-setosa\n",
              "2   3            4.7           3.2            1.3           0.2  Iris-setosa\n",
              "3   4            4.6           3.1            1.5           0.2  Iris-setosa\n",
              "4   5            5.0           3.6            1.4           0.2  Iris-setosa"
            ]
          },
          "execution_count": 19,
          "metadata": {},
          "output_type": "execute_result"
        }
      ],
      "source": [
        "dfIris.head()"
      ]
    },
    {
      "cell_type": "code",
      "execution_count": 20,
      "metadata": {
        "id": "vppUW4B8_ptL"
      },
      "outputs": [],
      "source": [
        "#Renombrado de columnas\n",
        "dfIris.rename({'SepalLengthCm':'sepalo_largo',\n",
        "           'SepalWidthCm':'sepalo_ancho',\n",
        "           'PetalLengthCm':'petalo_largo',\n",
        "           'PetalWidthCm':'petalo_ancho',\n",
        "           'Species':'especies'},\n",
        "          axis=1, inplace=True) # inplace = True para que el renombrado sea sobre el mismo df\n",
        "dfIris.drop('Id', axis=1, inplace=True)\n",
        "\n"
      ]
    },
    {
      "cell_type": "code",
      "execution_count": 21,
      "metadata": {
        "colab": {
          "base_uri": "https://localhost:8080/"
        },
        "execution": {
          "iopub.execute_input": "2022-02-12T06:16:45.52255Z",
          "iopub.status.busy": "2022-02-12T06:16:45.521902Z",
          "iopub.status.idle": "2022-02-12T06:16:45.529966Z",
          "shell.execute_reply": "2022-02-12T06:16:45.528795Z",
          "shell.execute_reply.started": "2022-02-12T06:16:45.522501Z"
        },
        "id": "L4R0nzFwkyRp",
        "outputId": "6ab13ccd-7d52-4b81-ed74-72f6b1f8596b",
        "trusted": true
      },
      "outputs": [
        {
          "data": {
            "text/plain": [
              "(150, 5)"
            ]
          },
          "execution_count": 21,
          "metadata": {},
          "output_type": "execute_result"
        }
      ],
      "source": [
        "dfIris.shape"
      ]
    },
    {
      "cell_type": "code",
      "execution_count": 22,
      "metadata": {
        "colab": {
          "base_uri": "https://localhost:8080/"
        },
        "execution": {
          "iopub.execute_input": "2022-02-12T06:16:45.532491Z",
          "iopub.status.busy": "2022-02-12T06:16:45.531731Z",
          "iopub.status.idle": "2022-02-12T06:16:45.556282Z",
          "shell.execute_reply": "2022-02-12T06:16:45.555176Z",
          "shell.execute_reply.started": "2022-02-12T06:16:45.532453Z"
        },
        "id": "UhmPOR8ikyRp",
        "outputId": "dc2bb7fb-9ee3-47ff-f9a2-cb04c9141d6a",
        "trusted": true
      },
      "outputs": [
        {
          "name": "stdout",
          "output_type": "stream",
          "text": [
            "<class 'pandas.core.frame.DataFrame'>\n",
            "RangeIndex: 150 entries, 0 to 149\n",
            "Data columns (total 5 columns):\n",
            " #   Column        Non-Null Count  Dtype  \n",
            "---  ------        --------------  -----  \n",
            " 0   sepalo_largo  150 non-null    float64\n",
            " 1   sepalo_ancho  150 non-null    float64\n",
            " 2   petalo_largo  150 non-null    float64\n",
            " 3   petalo_ancho  150 non-null    float64\n",
            " 4   especies      150 non-null    object \n",
            "dtypes: float64(4), object(1)\n",
            "memory usage: 6.0+ KB\n"
          ]
        }
      ],
      "source": [
        "dfIris.info()"
      ]
    },
    {
      "cell_type": "code",
      "execution_count": 23,
      "metadata": {
        "colab": {
          "base_uri": "https://localhost:8080/",
          "height": 300
        },
        "execution": {
          "iopub.execute_input": "2022-02-12T06:16:45.557966Z",
          "iopub.status.busy": "2022-02-12T06:16:45.557667Z",
          "iopub.status.idle": "2022-02-12T06:16:45.581314Z",
          "shell.execute_reply": "2022-02-12T06:16:45.580238Z",
          "shell.execute_reply.started": "2022-02-12T06:16:45.557937Z"
        },
        "id": "tqh_kA8ZkyRp",
        "outputId": "42a68618-2572-45c4-f287-ab6dca94f472",
        "trusted": true
      },
      "outputs": [
        {
          "data": {
            "text/html": [
              "<div>\n",
              "<style scoped>\n",
              "    .dataframe tbody tr th:only-of-type {\n",
              "        vertical-align: middle;\n",
              "    }\n",
              "\n",
              "    .dataframe tbody tr th {\n",
              "        vertical-align: top;\n",
              "    }\n",
              "\n",
              "    .dataframe thead th {\n",
              "        text-align: right;\n",
              "    }\n",
              "</style>\n",
              "<table border=\"1\" class=\"dataframe\">\n",
              "  <thead>\n",
              "    <tr style=\"text-align: right;\">\n",
              "      <th></th>\n",
              "      <th>sepalo_largo</th>\n",
              "      <th>sepalo_ancho</th>\n",
              "      <th>petalo_largo</th>\n",
              "      <th>petalo_ancho</th>\n",
              "    </tr>\n",
              "  </thead>\n",
              "  <tbody>\n",
              "    <tr>\n",
              "      <th>count</th>\n",
              "      <td>150.000000</td>\n",
              "      <td>150.000000</td>\n",
              "      <td>150.000000</td>\n",
              "      <td>150.000000</td>\n",
              "    </tr>\n",
              "    <tr>\n",
              "      <th>mean</th>\n",
              "      <td>5.843333</td>\n",
              "      <td>3.054000</td>\n",
              "      <td>3.758667</td>\n",
              "      <td>1.198667</td>\n",
              "    </tr>\n",
              "    <tr>\n",
              "      <th>std</th>\n",
              "      <td>0.828066</td>\n",
              "      <td>0.433594</td>\n",
              "      <td>1.764420</td>\n",
              "      <td>0.763161</td>\n",
              "    </tr>\n",
              "    <tr>\n",
              "      <th>min</th>\n",
              "      <td>4.300000</td>\n",
              "      <td>2.000000</td>\n",
              "      <td>1.000000</td>\n",
              "      <td>0.100000</td>\n",
              "    </tr>\n",
              "    <tr>\n",
              "      <th>25%</th>\n",
              "      <td>5.100000</td>\n",
              "      <td>2.800000</td>\n",
              "      <td>1.600000</td>\n",
              "      <td>0.300000</td>\n",
              "    </tr>\n",
              "    <tr>\n",
              "      <th>50%</th>\n",
              "      <td>5.800000</td>\n",
              "      <td>3.000000</td>\n",
              "      <td>4.350000</td>\n",
              "      <td>1.300000</td>\n",
              "    </tr>\n",
              "    <tr>\n",
              "      <th>75%</th>\n",
              "      <td>6.400000</td>\n",
              "      <td>3.300000</td>\n",
              "      <td>5.100000</td>\n",
              "      <td>1.800000</td>\n",
              "    </tr>\n",
              "    <tr>\n",
              "      <th>max</th>\n",
              "      <td>7.900000</td>\n",
              "      <td>4.400000</td>\n",
              "      <td>6.900000</td>\n",
              "      <td>2.500000</td>\n",
              "    </tr>\n",
              "  </tbody>\n",
              "</table>\n",
              "</div>"
            ],
            "text/plain": [
              "       sepalo_largo  sepalo_ancho  petalo_largo  petalo_ancho\n",
              "count    150.000000    150.000000    150.000000    150.000000\n",
              "mean       5.843333      3.054000      3.758667      1.198667\n",
              "std        0.828066      0.433594      1.764420      0.763161\n",
              "min        4.300000      2.000000      1.000000      0.100000\n",
              "25%        5.100000      2.800000      1.600000      0.300000\n",
              "50%        5.800000      3.000000      4.350000      1.300000\n",
              "75%        6.400000      3.300000      5.100000      1.800000\n",
              "max        7.900000      4.400000      6.900000      2.500000"
            ]
          },
          "execution_count": 23,
          "metadata": {},
          "output_type": "execute_result"
        }
      ],
      "source": [
        "dfIris.describe()"
      ]
    },
    {
      "cell_type": "code",
      "execution_count": 24,
      "metadata": {
        "colab": {
          "base_uri": "https://localhost:8080/",
          "height": 509
        },
        "execution": {
          "iopub.execute_input": "2022-02-12T06:16:45.582748Z",
          "iopub.status.busy": "2022-02-12T06:16:45.582354Z",
          "iopub.status.idle": "2022-02-12T06:16:46.391368Z",
          "shell.execute_reply": "2022-02-12T06:16:46.390228Z",
          "shell.execute_reply.started": "2022-02-12T06:16:45.582719Z"
        },
        "id": "YnXhzq72kyRp",
        "outputId": "ea04f545-d064-4ba6-c5eb-da3228013688",
        "trusted": true
      },
      "outputs": [],
      "source": [
        "# sns.heatmap(dfIris.corr(), annot=True,cmap='Blues')"
      ]
    },
    {
      "cell_type": "code",
      "execution_count": 25,
      "metadata": {
        "colab": {
          "base_uri": "https://localhost:8080/",
          "height": 1000
        },
        "execution": {
          "iopub.execute_input": "2022-02-12T06:16:46.394354Z",
          "iopub.status.busy": "2022-02-12T06:16:46.394021Z",
          "iopub.status.idle": "2022-02-12T06:17:00.018258Z",
          "shell.execute_reply": "2022-02-12T06:17:00.017434Z",
          "shell.execute_reply.started": "2022-02-12T06:16:46.394321Z"
        },
        "id": "nRmOfb0ekyRq",
        "outputId": "fc7d36df-d655-442f-a3f2-499acb5a8df1",
        "trusted": true
      },
      "outputs": [
        {
          "data": {
            "text/plain": [
              "<seaborn.axisgrid.PairGrid at 0x173717c6630>"
            ]
          },
          "execution_count": 25,
          "metadata": {},
          "output_type": "execute_result"
        },
        {
          "data": {
            "image/png": "[encoded data removed]",
            "text/plain": [
              "<Figure size 1000x1000 with 20 Axes>"
            ]
          },
          "metadata": {},
          "output_type": "display_data"
        }
      ],
      "source": [
        "sns.pairplot(dfIris)"
      ]
    },
    {
      "cell_type": "markdown",
      "metadata": {
        "id": "9ACbXkUGkyRq"
      },
      "source": [
        "#  Particionamiento y entrenamiento\n",
        "\n",
        "Vamos a predecir el ancho del pétalo, viendo los gráficos y la correlación utilizaremos la variable petalo largo como entrada"
      ]
    },
    {
      "cell_type": "code",
      "execution_count": 26,
      "metadata": {
        "execution": {
          "iopub.execute_input": "2022-02-12T06:17:00.020126Z",
          "iopub.status.busy": "2022-02-12T06:17:00.019818Z",
          "iopub.status.idle": "2022-02-12T06:17:00.026593Z",
          "shell.execute_reply": "2022-02-12T06:17:00.024995Z",
          "shell.execute_reply.started": "2022-02-12T06:17:00.020094Z"
        },
        "id": "6Al3Rd8dkyRq",
        "trusted": true
      },
      "outputs": [],
      "source": [
        "# Separo en X los atributos , en y las etiquetas\n",
        "X = dfIris[['petalo_largo']].values\n",
        "y = dfIris['petalo_ancho'].values\n"
      ]
    },
    {
      "cell_type": "code",
      "execution_count": 27,
      "metadata": {
        "execution": {
          "iopub.execute_input": "2022-02-12T06:17:00.057398Z",
          "iopub.status.busy": "2022-02-12T06:17:00.057023Z",
          "iopub.status.idle": "2022-02-12T06:17:00.066186Z",
          "shell.execute_reply": "2022-02-12T06:17:00.065276Z",
          "shell.execute_reply.started": "2022-02-12T06:17:00.057356Z"
        },
        "id": "wPsIBQAZkyRq",
        "trusted": true
      },
      "outputs": [],
      "source": [
        "X_train, X_test, y_train, y_test = train_test_split(X, y, test_size=0.3, random_state=101)"
      ]
    },
    {
      "cell_type": "markdown",
      "metadata": {
        "id": "eTvMee3PkyRr"
      },
      "source": [
        "# Modelo de regresión Lineal"
      ]
    },
    {
      "cell_type": "code",
      "execution_count": 28,
      "metadata": {
        "execution": {
          "iopub.execute_input": "2022-02-12T06:17:00.093433Z",
          "iopub.status.busy": "2022-02-12T06:17:00.092948Z",
          "iopub.status.idle": "2022-02-12T06:17:00.102321Z",
          "shell.execute_reply": "2022-02-12T06:17:00.10137Z",
          "shell.execute_reply.started": "2022-02-12T06:17:00.0934Z"
        },
        "id": "gKrpfKIakyRr",
        "trusted": true
      },
      "outputs": [],
      "source": [
        "regresion = LinearRegression()"
      ]
    },
    {
      "cell_type": "code",
      "execution_count": 29,
      "metadata": {
        "colab": {
          "base_uri": "https://localhost:8080/",
          "height": 74
        },
        "execution": {
          "iopub.execute_input": "2022-02-12T06:17:00.104039Z",
          "iopub.status.busy": "2022-02-12T06:17:00.103754Z",
          "iopub.status.idle": "2022-02-12T06:17:00.287372Z",
          "shell.execute_reply": "2022-02-12T06:17:00.286482Z",
          "shell.execute_reply.started": "2022-02-12T06:17:00.104012Z"
        },
        "id": "qhFWNTRwkyRr",
        "outputId": "37d9e2b7-2545-47f8-a8ba-eec6c7597f8b",
        "trusted": true
      },
      "outputs": [
        {
          "data": {
            "text/html": [
              "<style>#sk-container-id-1 {\n",
              "  /* Definition of color scheme common for light and dark mode */\n",
              "  --sklearn-color-text: black;\n",
              "  --sklearn-color-line: gray;\n",
              "  /* Definition of color scheme for unfitted estimators */\n",
              "  --sklearn-color-unfitted-level-0: #fff5e6;\n",
              "  --sklearn-color-unfitted-level-1: #f6e4d2;\n",
              "  --sklearn-color-unfitted-level-2: #ffe0b3;\n",
              "  --sklearn-color-unfitted-level-3: chocolate;\n",
              "  /* Definition of color scheme for fitted estimators */\n",
              "  --sklearn-color-fitted-level-0: #f0f8ff;\n",
              "  --sklearn-color-fitted-level-1: #d4ebff;\n",
              "  --sklearn-color-fitted-level-2: #b3dbfd;\n",
              "  --sklearn-color-fitted-level-3: cornflowerblue;\n",
              "\n",
              "  /* Specific color for light theme */\n",
              "  --sklearn-color-text-on-default-background: var(--sg-text-color, var(--theme-code-foreground, var(--jp-content-font-color1, black)));\n",
              "  --sklearn-color-background: var(--sg-background-color, var(--theme-background, var(--jp-layout-color0, white)));\n",
              "  --sklearn-color-border-box: var(--sg-text-color, var(--theme-code-foreground, var(--jp-content-font-color1, black)));\n",
              "  --sklearn-color-icon: #696969;\n",
              "\n",
              "  @media (prefers-color-scheme: dark) {\n",
              "    /* Redefinition of color scheme for dark theme */\n",
              "    --sklearn-color-text-on-default-background: var(--sg-text-color, var(--theme-code-foreground, var(--jp-content-font-color1, white)));\n",
              "    --sklearn-color-background: var(--sg-background-color, var(--theme-background, var(--jp-layout-color0, #111)));\n",
              "    --sklearn-color-border-box: var(--sg-text-color, var(--theme-code-foreground, var(--jp-content-font-color1, white)));\n",
              "    --sklearn-color-icon: #878787;\n",
              "  }\n",
              "}\n",
              "\n",
              "#sk-container-id-1 {\n",
              "  color: var(--sklearn-color-text);\n",
              "}\n",
              "\n",
              "#sk-container-id-1 pre {\n",
              "  padding: 0;\n",
              "}\n",
              "\n",
              "#sk-container-id-1 input.sk-hidden--visually {\n",
              "  border: 0;\n",
              "  clip: rect(1px 1px 1px 1px);\n",
              "  clip: rect(1px, 1px, 1px, 1px);\n",
              "  height: 1px;\n",
              "  margin: -1px;\n",
              "  overflow: hidden;\n",
              "  padding: 0;\n",
              "  position: absolute;\n",
              "  width: 1px;\n",
              "}\n",
              "\n",
              "#sk-container-id-1 div.sk-dashed-wrapped {\n",
              "  border: 1px dashed var(--sklearn-color-line);\n",
              "  margin: 0 0.4em 0.5em 0.4em;\n",
              "  box-sizing: border-box;\n",
              "  padding-bottom: 0.4em;\n",
              "  background-color: var(--sklearn-color-background);\n",
              "}\n",
              "\n",
              "#sk-container-id-1 div.sk-container {\n",
              "  /* jupyter's `normalize.less` sets `[hidden] { display: none; }`\n",
              "     but bootstrap.min.css set `[hidden] { display: none !important; }`\n",
              "     so we also need the `!important` here to be able to override the\n",
              "     default hidden behavior on the sphinx rendered scikit-learn.org.\n",
              "     See: https://github.com/scikit-learn/scikit-learn/issues/21755 */\n",
              "  display: inline-block !important;\n",
              "  position: relative;\n",
              "}\n",
              "\n",
              "#sk-container-id-1 div.sk-text-repr-fallback {\n",
              "  display: none;\n",
              "}\n",
              "\n",
              "div.sk-parallel-item,\n",
              "div.sk-serial,\n",
              "div.sk-item {\n",
              "  /* draw centered vertical line to link estimators */\n",
              "  background-image: linear-gradient(var(--sklearn-color-text-on-default-background), var(--sklearn-color-text-on-default-background));\n",
              "  background-size: 2px 100%;\n",
              "  background-repeat: no-repeat;\n",
              "  background-position: center center;\n",
              "}\n",
              "\n",
              "/* Parallel-specific style estimator block */\n",
              "\n",
              "#sk-container-id-1 div.sk-parallel-item::after {\n",
              "  content: \"\";\n",
              "  width: 100%;\n",
              "  border-bottom: 2px solid var(--sklearn-color-text-on-default-background);\n",
              "  flex-grow: 1;\n",
              "}\n",
              "\n",
              "#sk-container-id-1 div.sk-parallel {\n",
              "  display: flex;\n",
              "  align-items: stretch;\n",
              "  justify-content: center;\n",
              "  background-color: var(--sklearn-color-background);\n",
              "  position: relative;\n",
              "}\n",
              "\n",
              "#sk-container-id-1 div.sk-parallel-item {\n",
              "  display: flex;\n",
              "  flex-direction: column;\n",
              "}\n",
              "\n",
              "#sk-container-id-1 div.sk-parallel-item:first-child::after {\n",
              "  align-self: flex-end;\n",
              "  width: 50%;\n",
              "}\n",
              "\n",
              "#sk-container-id-1 div.sk-parallel-item:last-child::after {\n",
              "  align-self: flex-start;\n",
              "  width: 50%;\n",
              "}\n",
              "\n",
              "#sk-container-id-1 div.sk-parallel-item:only-child::after {\n",
              "  width: 0;\n",
              "}\n",
              "\n",
              "/* Serial-specific style estimator block */\n",
              "\n",
              "#sk-container-id-1 div.sk-serial {\n",
              "  display: flex;\n",
              "  flex-direction: column;\n",
              "  align-items: center;\n",
              "  background-color: var(--sklearn-color-background);\n",
              "  padding-right: 1em;\n",
              "  padding-left: 1em;\n",
              "}\n",
              "\n",
              "\n",
              "/* Toggleable style: style used for estimator/Pipeline/ColumnTransformer box that is\n",
              "clickable and can be expanded/collapsed.\n",
              "- Pipeline and ColumnTransformer use this feature and define the default style\n",
              "- Estimators will overwrite some part of the style using the `sk-estimator` class\n",
              "*/\n",
              "\n",
              "/* Pipeline and ColumnTransformer style (default) */\n",
              "\n",
              "#sk-container-id-1 div.sk-toggleable {\n",
              "  /* Default theme specific background. It is overwritten whether we have a\n",
              "  specific estimator or a Pipeline/ColumnTransformer */\n",
              "  background-color: var(--sklearn-color-background);\n",
              "}\n",
              "\n",
              "/* Toggleable label */\n",
              "#sk-container-id-1 label.sk-toggleable__label {\n",
              "  cursor: pointer;\n",
              "  display: block;\n",
              "  width: 100%;\n",
              "  margin-bottom: 0;\n",
              "  padding: 0.5em;\n",
              "  box-sizing: border-box;\n",
              "  text-align: center;\n",
              "}\n",
              "\n",
              "#sk-container-id-1 label.sk-toggleable__label-arrow:before {\n",
              "  /* Arrow on the left of the label */\n",
              "  content: \"▸\";\n",
              "  float: left;\n",
              "  margin-right: 0.25em;\n",
              "  color: var(--sklearn-color-icon);\n",
              "}\n",
              "\n",
              "#sk-container-id-1 label.sk-toggleable__label-arrow:hover:before {\n",
              "  color: var(--sklearn-color-text);\n",
              "}\n",
              "\n",
              "/* Toggleable content - dropdown */\n",
              "\n",
              "#sk-container-id-1 div.sk-toggleable__content {\n",
              "  max-height: 0;\n",
              "  max-width: 0;\n",
              "  overflow: hidden;\n",
              "  text-align: left;\n",
              "  /* unfitted */\n",
              "  background-color: var(--sklearn-color-unfitted-level-0);\n",
              "}\n",
              "\n",
              "#sk-container-id-1 div.sk-toggleable__content.fitted {\n",
              "  /* fitted */\n",
              "  background-color: var(--sklearn-color-fitted-level-0);\n",
              "}\n",
              "\n",
              "#sk-container-id-1 div.sk-toggleable__content pre {\n",
              "  margin: 0.2em;\n",
              "  border-radius: 0.25em;\n",
              "  color: var(--sklearn-color-text);\n",
              "  /* unfitted */\n",
              "  background-color: var(--sklearn-color-unfitted-level-0);\n",
              "}\n",
              "\n",
              "#sk-container-id-1 div.sk-toggleable__content.fitted pre {\n",
              "  /* unfitted */\n",
              "  background-color: var(--sklearn-color-fitted-level-0);\n",
              "}\n",
              "\n",
              "#sk-container-id-1 input.sk-toggleable__control:checked~div.sk-toggleable__content {\n",
              "  /* Expand drop-down */\n",
              "  max-height: 200px;\n",
              "  max-width: 100%;\n",
              "  overflow: auto;\n",
              "}\n",
              "\n",
              "#sk-container-id-1 input.sk-toggleable__control:checked~label.sk-toggleable__label-arrow:before {\n",
              "  content: \"▾\";\n",
              "}\n",
              "\n",
              "/* Pipeline/ColumnTransformer-specific style */\n",
              "\n",
              "#sk-container-id-1 div.sk-label input.sk-toggleable__control:checked~label.sk-toggleable__label {\n",
              "  color: var(--sklearn-color-text);\n",
              "  background-color: var(--sklearn-color-unfitted-level-2);\n",
              "}\n",
              "\n",
              "#sk-container-id-1 div.sk-label.fitted input.sk-toggleable__control:checked~label.sk-toggleable__label {\n",
              "  background-color: var(--sklearn-color-fitted-level-2);\n",
              "}\n",
              "\n",
              "/* Estimator-specific style */\n",
              "\n",
              "/* Colorize estimator box */\n",
              "#sk-container-id-1 div.sk-estimator input.sk-toggleable__control:checked~label.sk-toggleable__label {\n",
              "  /* unfitted */\n",
              "  background-color: var(--sklearn-color-unfitted-level-2);\n",
              "}\n",
              "\n",
              "#sk-container-id-1 div.sk-estimator.fitted input.sk-toggleable__control:checked~label.sk-toggleable__label {\n",
              "  /* fitted */\n",
              "  background-color: var(--sklearn-color-fitted-level-2);\n",
              "}\n",
              "\n",
              "#sk-container-id-1 div.sk-label label.sk-toggleable__label,\n",
              "#sk-container-id-1 div.sk-label label {\n",
              "  /* The background is the default theme color */\n",
              "  color: var(--sklearn-color-text-on-default-background);\n",
              "}\n",
              "\n",
              "/* On hover, darken the color of the background */\n",
              "#sk-container-id-1 div.sk-label:hover label.sk-toggleable__label {\n",
              "  color: var(--sklearn-color-text);\n",
              "  background-color: var(--sklearn-color-unfitted-level-2);\n",
              "}\n",
              "\n",
              "/* Label box, darken color on hover, fitted */\n",
              "#sk-container-id-1 div.sk-label.fitted:hover label.sk-toggleable__label.fitted {\n",
              "  color: var(--sklearn-color-text);\n",
              "  background-color: var(--sklearn-color-fitted-level-2);\n",
              "}\n",
              "\n",
              "/* Estimator label */\n",
              "\n",
              "#sk-container-id-1 div.sk-label label {\n",
              "  font-family: monospace;\n",
              "  font-weight: bold;\n",
              "  display: inline-block;\n",
              "  line-height: 1.2em;\n",
              "}\n",
              "\n",
              "#sk-container-id-1 div.sk-label-container {\n",
              "  text-align: center;\n",
              "}\n",
              "\n",
              "/* Estimator-specific */\n",
              "#sk-container-id-1 div.sk-estimator {\n",
              "  font-family: monospace;\n",
              "  border: 1px dotted var(--sklearn-color-border-box);\n",
              "  border-radius: 0.25em;\n",
              "  box-sizing: border-box;\n",
              "  margin-bottom: 0.5em;\n",
              "  /* unfitted */\n",
              "  background-color: var(--sklearn-color-unfitted-level-0);\n",
              "}\n",
              "\n",
              "#sk-container-id-1 div.sk-estimator.fitted {\n",
              "  /* fitted */\n",
              "  background-color: var(--sklearn-color-fitted-level-0);\n",
              "}\n",
              "\n",
              "/* on hover */\n",
              "#sk-container-id-1 div.sk-estimator:hover {\n",
              "  /* unfitted */\n",
              "  background-color: var(--sklearn-color-unfitted-level-2);\n",
              "}\n",
              "\n",
              "#sk-container-id-1 div.sk-estimator.fitted:hover {\n",
              "  /* fitted */\n",
              "  background-color: var(--sklearn-color-fitted-level-2);\n",
              "}\n",
              "\n",
              "/* Specification for estimator info (e.g. \"i\" and \"?\") */\n",
              "\n",
              "/* Common style for \"i\" and \"?\" */\n",
              "\n",
              ".sk-estimator-doc-link,\n",
              "a:link.sk-estimator-doc-link,\n",
              "a:visited.sk-estimator-doc-link {\n",
              "  float: right;\n",
              "  font-size: smaller;\n",
              "  line-height: 1em;\n",
              "  font-family: monospace;\n",
              "  background-color: var(--sklearn-color-background);\n",
              "  border-radius: 1em;\n",
              "  height: 1em;\n",
              "  width: 1em;\n",
              "  text-decoration: none !important;\n",
              "  margin-left: 1ex;\n",
              "  /* unfitted */\n",
              "  border: var(--sklearn-color-unfitted-level-1) 1pt solid;\n",
              "  color: var(--sklearn-color-unfitted-level-1);\n",
              "}\n",
              "\n",
              ".sk-estimator-doc-link.fitted,\n",
              "a:link.sk-estimator-doc-link.fitted,\n",
              "a:visited.sk-estimator-doc-link.fitted {\n",
              "  /* fitted */\n",
              "  border: var(--sklearn-color-fitted-level-1) 1pt solid;\n",
              "  color: var(--sklearn-color-fitted-level-1);\n",
              "}\n",
              "\n",
              "/* On hover */\n",
              "div.sk-estimator:hover .sk-estimator-doc-link:hover,\n",
              ".sk-estimator-doc-link:hover,\n",
              "div.sk-label-container:hover .sk-estimator-doc-link:hover,\n",
              ".sk-estimator-doc-link:hover {\n",
              "  /* unfitted */\n",
              "  background-color: var(--sklearn-color-unfitted-level-3);\n",
              "  color: var(--sklearn-color-background);\n",
              "  text-decoration: none;\n",
              "}\n",
              "\n",
              "div.sk-estimator.fitted:hover .sk-estimator-doc-link.fitted:hover,\n",
              ".sk-estimator-doc-link.fitted:hover,\n",
              "div.sk-label-container:hover .sk-estimator-doc-link.fitted:hover,\n",
              ".sk-estimator-doc-link.fitted:hover {\n",
              "  /* fitted */\n",
              "  background-color: var(--sklearn-color-fitted-level-3);\n",
              "  color: var(--sklearn-color-background);\n",
              "  text-decoration: none;\n",
              "}\n",
              "\n",
              "/* Span, style for the box shown on hovering the info icon */\n",
              ".sk-estimator-doc-link span {\n",
              "  display: none;\n",
              "  z-index: 9999;\n",
              "  position: relative;\n",
              "  font-weight: normal;\n",
              "  right: .2ex;\n",
              "  padding: .5ex;\n",
              "  margin: .5ex;\n",
              "  width: min-content;\n",
              "  min-width: 20ex;\n",
              "  max-width: 50ex;\n",
              "  color: var(--sklearn-color-text);\n",
              "  box-shadow: 2pt 2pt 4pt #999;\n",
              "  /* unfitted */\n",
              "  background: var(--sklearn-color-unfitted-level-0);\n",
              "  border: .5pt solid var(--sklearn-color-unfitted-level-3);\n",
              "}\n",
              "\n",
              ".sk-estimator-doc-link.fitted span {\n",
              "  /* fitted */\n",
              "  background: var(--sklearn-color-fitted-level-0);\n",
              "  border: var(--sklearn-color-fitted-level-3);\n",
              "}\n",
              "\n",
              ".sk-estimator-doc-link:hover span {\n",
              "  display: block;\n",
              "}\n",
              "\n",
              "/* \"?\"-specific style due to the `<a>` HTML tag */\n",
              "\n",
              "#sk-container-id-1 a.estimator_doc_link {\n",
              "  float: right;\n",
              "  font-size: 1rem;\n",
              "  line-height: 1em;\n",
              "  font-family: monospace;\n",
              "  background-color: var(--sklearn-color-background);\n",
              "  border-radius: 1rem;\n",
              "  height: 1rem;\n",
              "  width: 1rem;\n",
              "  text-decoration: none;\n",
              "  /* unfitted */\n",
              "  color: var(--sklearn-color-unfitted-level-1);\n",
              "  border: var(--sklearn-color-unfitted-level-1) 1pt solid;\n",
              "}\n",
              "\n",
              "#sk-container-id-1 a.estimator_doc_link.fitted {\n",
              "  /* fitted */\n",
              "  border: var(--sklearn-color-fitted-level-1) 1pt solid;\n",
              "  color: var(--sklearn-color-fitted-level-1);\n",
              "}\n",
              "\n",
              "/* On hover */\n",
              "#sk-container-id-1 a.estimator_doc_link:hover {\n",
              "  /* unfitted */\n",
              "  background-color: var(--sklearn-color-unfitted-level-3);\n",
              "  color: var(--sklearn-color-background);\n",
              "  text-decoration: none;\n",
              "}\n",
              "\n",
              "#sk-container-id-1 a.estimator_doc_link.fitted:hover {\n",
              "  /* fitted */\n",
              "  background-color: var(--sklearn-color-fitted-level-3);\n",
              "}\n",
              "</style><div id=\"sk-container-id-1\" class=\"sk-top-container\"><div class=\"sk-text-repr-fallback\"><pre>LinearRegression()</pre><b>In a Jupyter environment, please rerun this cell to show the HTML representation or trust the notebook. <br />On GitHub, the HTML representation is unable to render, please try loading this page with nbviewer.org.</b></div><div class=\"sk-container\" hidden><div class=\"sk-item\"><div class=\"sk-estimator fitted sk-toggleable\"><input class=\"sk-toggleable__control sk-hidden--visually\" id=\"sk-estimator-id-1\" type=\"checkbox\" checked><label for=\"sk-estimator-id-1\" class=\"sk-toggleable__label fitted sk-toggleable__label-arrow fitted\">&nbsp;&nbsp;LinearRegression<a class=\"sk-estimator-doc-link fitted\" rel=\"noreferrer\" target=\"_blank\" href=\"https://scikit-learn.org/1.5/modules/generated/sklearn.linear_model.LinearRegression.html\">?<span>Documentation for LinearRegression</span></a><span class=\"sk-estimator-doc-link fitted\">i<span>Fitted</span></span></label><div class=\"sk-toggleable__content fitted\"><pre>LinearRegression()</pre></div> </div></div></div></div>"
            ],
            "text/plain": [
              "LinearRegression()"
            ]
          },
          "execution_count": 29,
          "metadata": {},
          "output_type": "execute_result"
        }
      ],
      "source": [
        "regresion.fit(X_train, y_train)"
      ]
    },
    {
      "cell_type": "markdown",
      "metadata": {
        "id": "CCZg85PTkyRr"
      },
      "source": [
        "##  Evaluacion del modelo"
      ]
    },
    {
      "cell_type": "code",
      "execution_count": 30,
      "metadata": {
        "colab": {
          "base_uri": "https://localhost:8080/"
        },
        "execution": {
          "iopub.execute_input": "2022-02-12T06:17:00.288837Z",
          "iopub.status.busy": "2022-02-12T06:17:00.288542Z",
          "iopub.status.idle": "2022-02-12T06:17:00.295441Z",
          "shell.execute_reply": "2022-02-12T06:17:00.294314Z",
          "shell.execute_reply.started": "2022-02-12T06:17:00.288801Z"
        },
        "id": "RX38q4EAkyRr",
        "outputId": "ee68ca69-e7fc-4d1f-f078-a004da96ac0c",
        "trusted": true
      },
      "outputs": [
        {
          "data": {
            "text/plain": [
              "array([0.42607684])"
            ]
          },
          "execution_count": 30,
          "metadata": {},
          "output_type": "execute_result"
        }
      ],
      "source": [
        "regresion.coef_"
      ]
    },
    {
      "cell_type": "markdown",
      "metadata": {
        "id": "dbPLNQUpkyRs"
      },
      "source": [
        "## Prediccion"
      ]
    },
    {
      "cell_type": "code",
      "execution_count": 31,
      "metadata": {
        "execution": {
          "iopub.execute_input": "2022-02-12T06:17:00.314522Z",
          "iopub.status.busy": "2022-02-12T06:17:00.314029Z",
          "iopub.status.idle": "2022-02-12T06:17:00.327735Z",
          "shell.execute_reply": "2022-02-12T06:17:00.326738Z",
          "shell.execute_reply.started": "2022-02-12T06:17:00.314489Z"
        },
        "id": "LHR02f_ikyRs",
        "trusted": true
      },
      "outputs": [],
      "source": [
        "y_pred = regresion.predict(X_test)"
      ]
    },
    {
      "cell_type": "markdown",
      "metadata": {
        "id": "exDrVDVakyRs"
      },
      "source": [
        "## Métricas de evaluación\n",
        "\n",
        "\n",
        "\n",
        "> - **Mean Absolute Error - Error Absoluto medio** (MAE) es el promedio de los errores absolutos:\n",
        "$$\\frac 1n\\sum_{i=1}^n|y_i-\\hat{y}_i|$$\n",
        "\n",
        "> - **Mean Squared Error - Error cuadratico medio** (MSE) es el promedio del cuadrado de los errores:\n",
        "$$\\frac 1n\\sum_{i=1}^n(y_i-\\hat{y}_i)^2$$\n",
        "\n",
        "> - **Root Mean Squared Error - Raiz del error cuadrático medio** (RMSE) es la raiz cuadrada del cuadrado de los errores:\n",
        "$$\\sqrt{\\frac 1n\\sum_{i=1}^n(y_i-\\hat{y}_i)^2}$$\n",
        "\n",
        "> Comparando las métricas:\n",
        "- **MAE** es la más fácil de comprender porque es el error promedio.\n",
        "- **MSE** es más popular que MAE, porque MSE \"castiga\" errores más grandes, lo que tiende a ser útil en el mundo real.\n",
        "- **RMSE** es incluso más popular que MSE, porque RMSE se puede interpretar en las unidades \"y\".\n",
        "\n",
        "> Todas son funciones de pérdida, es decir que debemos minimizarlas.\n"
      ]
    },
    {
      "cell_type": "code",
      "execution_count": 32,
      "metadata": {
        "colab": {
          "base_uri": "https://localhost:8080/"
        },
        "execution": {
          "iopub.execute_input": "2022-02-12T06:17:00.37854Z",
          "iopub.status.busy": "2022-02-12T06:17:00.378023Z",
          "iopub.status.idle": "2022-02-12T06:17:00.389503Z",
          "shell.execute_reply": "2022-02-12T06:17:00.388681Z",
          "shell.execute_reply.started": "2022-02-12T06:17:00.378497Z"
        },
        "id": "rcfq0gjakyRt",
        "outputId": "e6895ca5-7bc9-4558-ebab-58e3f31e3949",
        "trusted": true
      },
      "outputs": [
        {
          "data": {
            "text/plain": [
              "np.float64(1.1986666666666668)"
            ]
          },
          "execution_count": 32,
          "metadata": {},
          "output_type": "execute_result"
        }
      ],
      "source": [
        "dfIris['petalo_ancho'].mean()"
      ]
    },
    {
      "cell_type": "code",
      "execution_count": 33,
      "metadata": {
        "execution": {
          "iopub.execute_input": "2022-02-12T06:17:00.329397Z",
          "iopub.status.busy": "2022-02-12T06:17:00.329059Z",
          "iopub.status.idle": "2022-02-12T06:17:00.33994Z",
          "shell.execute_reply": "2022-02-12T06:17:00.33911Z",
          "shell.execute_reply.started": "2022-02-12T06:17:00.329368Z"
        },
        "id": "nDi1T3CNkyRs",
        "trusted": true
      },
      "outputs": [],
      "source": [
        "MAE= metrics.mean_absolute_error(y_test, y_pred)\n",
        "MSE=metrics.mean_squared_error(y_test, y_pred)\n",
        "RMSE= np.sqrt(MSE)"
      ]
    },
    {
      "cell_type": "code",
      "execution_count": 34,
      "metadata": {
        "colab": {
          "base_uri": "https://localhost:8080/"
        },
        "execution": {
          "iopub.execute_input": "2022-02-12T06:17:00.341497Z",
          "iopub.status.busy": "2022-02-12T06:17:00.341019Z",
          "iopub.status.idle": "2022-02-12T06:17:00.3535Z",
          "shell.execute_reply": "2022-02-12T06:17:00.352515Z",
          "shell.execute_reply.started": "2022-02-12T06:17:00.341467Z"
        },
        "id": "BqJHWrwekyRs",
        "outputId": "2bc5cf9e-0915-4e24-e831-8c908110d697",
        "trusted": true
      },
      "outputs": [
        {
          "data": {
            "text/plain": [
              "np.float64(0.1500456207478458)"
            ]
          },
          "execution_count": 34,
          "metadata": {},
          "output_type": "execute_result"
        }
      ],
      "source": [
        "MAE"
      ]
    },
    {
      "cell_type": "code",
      "execution_count": 35,
      "metadata": {
        "colab": {
          "base_uri": "https://localhost:8080/"
        },
        "execution": {
          "iopub.execute_input": "2022-02-12T06:17:00.355169Z",
          "iopub.status.busy": "2022-02-12T06:17:00.354848Z",
          "iopub.status.idle": "2022-02-12T06:17:00.365271Z",
          "shell.execute_reply": "2022-02-12T06:17:00.364402Z",
          "shell.execute_reply.started": "2022-02-12T06:17:00.355128Z"
        },
        "id": "EEWvFabWkyRs",
        "outputId": "90ba1e16-4964-481e-fbc7-accbd102e09a",
        "trusted": true
      },
      "outputs": [
        {
          "data": {
            "text/plain": [
              "np.float64(0.0426646495429348)"
            ]
          },
          "execution_count": 35,
          "metadata": {},
          "output_type": "execute_result"
        }
      ],
      "source": [
        "MSE"
      ]
    },
    {
      "cell_type": "code",
      "execution_count": 36,
      "metadata": {
        "colab": {
          "base_uri": "https://localhost:8080/"
        },
        "execution": {
          "iopub.execute_input": "2022-02-12T06:17:00.367023Z",
          "iopub.status.busy": "2022-02-12T06:17:00.366552Z",
          "iopub.status.idle": "2022-02-12T06:17:00.376773Z",
          "shell.execute_reply": "2022-02-12T06:17:00.375979Z",
          "shell.execute_reply.started": "2022-02-12T06:17:00.366992Z"
        },
        "id": "P1FvcMuzkyRt",
        "outputId": "7defede8-2f78-4307-a7b5-3a417afee903",
        "trusted": true
      },
      "outputs": [
        {
          "data": {
            "text/plain": [
              "np.float64(0.20655422906088078)"
            ]
          },
          "execution_count": 36,
          "metadata": {},
          "output_type": "execute_result"
        }
      ],
      "source": [
        "RMSE"
      ]
    },
    {
      "cell_type": "markdown",
      "metadata": {
        "id": "jy5-idmDkyR8"
      },
      "source": [
        "## **Histograma de residuos**\n",
        "\n",
        "Los residuos deberían comportarse de manera normal\n"
      ]
    },
    {
      "cell_type": "code",
      "execution_count": 37,
      "metadata": {
        "execution": {
          "iopub.execute_input": "2022-02-12T06:17:00.391346Z",
          "iopub.status.busy": "2022-02-12T06:17:00.390813Z",
          "iopub.status.idle": "2022-02-12T06:17:00.398893Z",
          "shell.execute_reply": "2022-02-12T06:17:00.398131Z",
          "shell.execute_reply.started": "2022-02-12T06:17:00.391314Z"
        },
        "id": "A856iBrCkyR8",
        "trusted": true
      },
      "outputs": [],
      "source": [
        "test_residual= y_test - y_pred"
      ]
    },
    {
      "cell_type": "code",
      "execution_count": 38,
      "metadata": {
        "colab": {
          "base_uri": "https://localhost:8080/",
          "height": 17
        },
        "execution": {
          "iopub.execute_input": "2022-02-12T06:17:00.400609Z",
          "iopub.status.busy": "2022-02-12T06:17:00.400121Z",
          "iopub.status.idle": "2022-02-12T06:17:00.523372Z",
          "shell.execute_reply": "2022-02-12T06:17:00.522388Z",
          "shell.execute_reply.started": "2022-02-12T06:17:00.400577Z"
        },
        "id": "YNq3oU0qkyR8",
        "outputId": "aa162ba4-ddb0-44ba-eca5-a50dc8236eca",
        "trusted": true
      },
      "outputs": [
        {
          "data": {},
          "metadata": {},
          "output_type": "display_data"
        },
        {
          "data": {
            "application/vnd.holoviews_exec.v0+json": "",
            "text/html": [
              "<div id='p1004'>\n",
              "  <div id=\"ca023210-87c6-46af-bccd-a05e98c58146\" data-root-id=\"p1004\" style=\"display: contents;\"></div>\n",
              "</div>\n",
              "<script type=\"application/javascript\">(function(root) {\n",
              "  var docs_json = {\"671edb97-f934-4251-a269-89188a053a0b\":{\"version\":\"3.4.3\",\"title\":\"Bokeh Application\",\"roots\":[{\"type\":\"object\",\"name\":\"Row\",\"id\":\"p1004\",\"attributes\":{\"name\":\"Row00956\",\"tags\":[\"embedded\"],\"stylesheets\":[\"\\n:host(.pn-loading):before, .pn-loading:before {\\n  background-color: #c3c3c3;\\n  mask-size: auto calc(min(50%, 400px));\\n  -webkit-mask-size: auto calc(min(50%, 400px));\\n}\",{\"type\":\"object\",\"name\":\"ImportedStyleSheet\",\"id\":\"p1007\",\"attributes\":{\"url\":\"https://cdn.holoviz.org/panel/1.4.5/dist/css/loading.css\"}},{\"type\":\"object\",\"name\":\"ImportedStyleSheet\",\"id\":\"p1063\",\"attributes\":{\"url\":\"https://cdn.holoviz.org/panel/1.4.5/dist/css/listpanel.css\"}},{\"type\":\"object\",\"name\":\"ImportedStyleSheet\",\"id\":\"p1005\",\"attributes\":{\"url\":\"https://cdn.holoviz.org/panel/1.4.5/dist/bundled/theme/default.css\"}},{\"type\":\"object\",\"name\":\"ImportedStyleSheet\",\"id\":\"p1006\",\"attributes\":{\"url\":\"https://cdn.holoviz.org/panel/1.4.5/dist/bundled/theme/native.css\"}}],\"min_width\":700,\"margin\":0,\"sizing_mode\":\"stretch_width\",\"align\":\"start\",\"children\":[{\"type\":\"object\",\"name\":\"Spacer\",\"id\":\"p1008\",\"attributes\":{\"name\":\"HSpacer00963\",\"stylesheets\":[\"\\n:host(.pn-loading):before, .pn-loading:before {\\n  background-color: #c3c3c3;\\n  mask-size: auto calc(min(50%, 400px));\\n  -webkit-mask-size: auto calc(min(50%, 400px));\\n}\",{\"id\":\"p1007\"},{\"id\":\"p1005\"},{\"id\":\"p1006\"}],\"margin\":0,\"sizing_mode\":\"stretch_width\",\"align\":\"start\"}},{\"type\":\"object\",\"name\":\"Figure\",\"id\":\"p1016\",\"attributes\":{\"width\":700,\"height\":300,\"margin\":[5,10],\"sizing_mode\":\"fixed\",\"align\":\"start\",\"x_range\":{\"type\":\"object\",\"name\":\"Range1d\",\"id\":\"p1009\",\"attributes\":{\"tags\":[[[\"Errores\",null]],[]],\"start\":-0.8789152130021661,\"end\":0.9185581801029205,\"reset_start\":-0.8789152130021661,\"reset_end\":0.9185581801029205}},\"y_range\":{\"type\":\"object\",\"name\":\"Range1d\",\"id\":\"p1010\",\"attributes\":{\"tags\":[[[\"Density\",null]],{\"type\":\"map\",\"entries\":[[\"invert_yaxis\",false],[\"autorange\",false]]}],\"end\":2.2588283060672754,\"reset_start\":0.0,\"reset_end\":2.2588283060672754}},\"x_scale\":{\"type\":\"object\",\"name\":\"LinearScale\",\"id\":\"p1026\"},\"y_scale\":{\"type\":\"object\",\"name\":\"LinearScale\",\"id\":\"p1027\"},\"title\":{\"type\":\"object\",\"name\":\"Title\",\"id\":\"p1019\",\"attributes\":{\"text_color\":\"black\",\"text_font_size\":\"12pt\"}},\"renderers\":[{\"type\":\"object\",\"name\":\"GlyphRenderer\",\"id\":\"p1056\",\"attributes\":{\"data_source\":{\"type\":\"object\",\"name\":\"ColumnDataSource\",\"id\":\"p1047\",\"attributes\":{\"selected\":{\"type\":\"object\",\"name\":\"Selection\",\"id\":\"p1048\",\"attributes\":{\"indices\":[],\"line_indices\":[]}},\"selection_policy\":{\"type\":\"object\",\"name\":\"UnionRenderers\",\"id\":\"p1049\"},\"data\":{\"type\":\"map\",\"entries\":[[\"x\",{\"type\":\"ndarray\",\"array\":{\"type\":\"bytes\",\"data\":\"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\"},\"shape\":[200],\"dtype\":\"float64\",\"order\":\"little\"}],[\"y\",{\"type\":\"ndarray\",\"array\":{\"type\":\"bytes\",\"data\":\"AAAAAAAAAAAAAAAAAAAAAAAAAAAAAAAAAAAAAAAAAAAAAAAAAAAAAAAAAAAAAAAAAAAAAAAAAAAAAAAAAAAAAAAAAAAAAAAAAAAAAAAAAAAAAAAAAAAAAAAAAAAAAAAAAAAAAAAAAAAAAAAAAAAAAAAAAAAAAAAAAAAAAAAAAAAAAAAAAAAAAAAAAAAAAAAAAAAAAAAAAAAAAAAAAAAAAAAAAAAAAAAAAAAAAAAAAAAAAAAAAAAAAAAAAAAAAAAAAAAAAAAAAAAAAAAAAAAAAAAAAAAAAAAAAAAAAAAAAAAAAAAAAAAAAAAAAAAAAAAAAAAAAAAAAAAAAAAAAAAAAAAAAAAAAAAAAAAAAAAAAAAAAAAAAAAAAAAAAAAAAAAAAAAAAAAAAAAAAAAAAAAAAAAAAAAAAAAAAAAAAAAAAAAAAAAAAAAAAAAAAAAAAAAAAAAAAAAAAAAAAAAAAAAAAAAAAAAAAAAAAAAAAAAAAAAAAAAAAAAAAAAAAAAAAAAAAAAAAAAAAAAAAAAAAAAAAAAAAAAAAAAAAAAAAAAAAAAAAAAAAAAAAAAAAAAAAAAAAAAAAAAAAAAAAAAAAAAAAAAAAAAAAAAAAAAAAAAAAAAAAAAAAAAAAAAAAAAAAAAAAAAAAAAAAAAAAAAAAAAAAAAAAAAAAAAAAAAAAAAAAAAAAAAAAAAAAAAAAAAAAAAAAAAAAAAAAAAAAAAAAAAAAAAAAAAAAAAAAAAAAAAAAAAAAAAAAAAAAAAAAAAAAAAAAAAAAAAAAAAAAAAAAAAAAAAAAAAAAAAAAAAAAAAAAAAAAAAAAAAAAAAAAAAAAAAAAAAAAAAAAAAAAAAAAAAAAAAAAAAAAAAAAAAAAAAAAAAAAAAAAAAAAAAAAAAAAAAAAAAAAAAAAAAAAAAAAAAAAAAAAAAAAAAAAAAAAAAAAAAAAAAAAAAAAAAAAAAAAAAAAAAAAAAAAAAAAAAAAAAAAAAAAAAAAAAAAAAAAAAAAAAAAAAAAAAAAAAAAAAAAAAAAAAAAAAAAAAAAAAAAAAAAAAAAAAAAAAAAAAAAAAAAACvW782zJBQPydBb1WFelw/jDEhrLekZz/f+EnFevVyP1BmxSjpXX0/YubU7LT3hT+A4tfiQL6PP5qTi0/DJpY/q52aMk/cnT/NJir8gXCjPxGmNQZ4cqg/eplDWWuyrT8q3HvhXGyxP5CpfT09wLM/v1vgTEmitT+kUBB6k+e2PwBUwQRNdLc/34MdB45Btz8Fz0R/O2C2PzU2JMGF+LQ/xfTuX0NGsz9q92S1H5OxP0WPoLz/L7A/Ex8wlxrerj+vHh0MHz+vP8WAlcU0DLE//+iFStj7sz/AZT77NbS4P69mGZ10fb8/1ZJKqH1SxD8yu5L+3T7KP0qKDvgH19A/TQcSTxJj1T/mSuQpo9DaPxgh+oL6kOA/XEdLn7Yk5D+UST4c9xLoP88v7MD7QOw/lh4gHrBF8D/5qIpS6WTyP4mJqLBDavQ/Qw8qiTFF9j+usipXNOv3P1G99GN3Wfk/+R4slMOU+j8G1QKtpqf7P7UbYc8in/w/oFj0QKaG/T8NcHLeRWT+P1WKdqIqNv8/GqhNF9fx/z9xLfGmuUIAQAIh4P5nbQBAVv1NQrdtAECdJ0aqVToAQMPYwugxm/8/SK62KRtN/j+asp/+bJL8P9Kgs/cLfPo/uLzhCHoh+D/bHEX66Z31P+FItco5DfM/l/w401GJ8D/rJ40CeFDsP+rJJ80k9uc/QSF/e2cb5D+dUaFyFM7gPwkZb6iMJtw/dWhQaHPR1z+CTT6nFozUP/cQ2kKKO9I/v9+46aW80D/CosI0MszPP7ZxXwPpFc8/N2nKw237zj9DX34iPyfPPztCc5ycT88/xteZFlA7zz8lcQvOMcTOPzmTPFQf180/CrI8BblxzD8FiM1nrp7KP3zJmZOMccg/zWK+B94Cxj8sBxXHE23DP4dCbihOysA/EOwm0axlvD+JFUt2Bni3P2N9tL6q7rI/jkwVbADHrT+Aq/hxzcymP6agq5ol+qA/MauBM2yPmD+zFGj6rD2RP9PX7FG8eIc/G9KiyXb2fj+4FYMP4sZzPwo5b+IXdGg/voWZmOtAXT+vbrGqe+xQPw==\"},\"shape\":[200],\"dtype\":\"float64\",\"order\":\"little\"}]]}}},\"view\":{\"type\":\"object\",\"name\":\"CDSView\",\"id\":\"p1057\",\"attributes\":{\"filter\":{\"type\":\"object\",\"name\":\"AllIndices\",\"id\":\"p1058\"}}},\"glyph\":{\"type\":\"object\",\"name\":\"Patch\",\"id\":\"p1053\",\"attributes\":{\"tags\":[\"apply_ranges\"],\"x\":{\"type\":\"field\",\"field\":\"x\"},\"y\":{\"type\":\"field\",\"field\":\"y\"},\"fill_color\":\"#30a2da\",\"fill_alpha\":0.5,\"hatch_color\":\"#30a2da\"}},\"selection_glyph\":{\"type\":\"object\",\"name\":\"Patch\",\"id\":\"p1059\",\"attributes\":{\"tags\":[\"apply_ranges\"],\"x\":{\"type\":\"field\",\"field\":\"x\"},\"y\":{\"type\":\"field\",\"field\":\"y\"},\"fill_color\":\"#30a2da\",\"fill_alpha\":0.5,\"hatch_color\":\"#30a2da\"}},\"nonselection_glyph\":{\"type\":\"object\",\"name\":\"Patch\",\"id\":\"p1054\",\"attributes\":{\"tags\":[\"apply_ranges\"],\"x\":{\"type\":\"field\",\"field\":\"x\"},\"y\":{\"type\":\"field\",\"field\":\"y\"},\"line_alpha\":1,\"fill_color\":\"#30a2da\",\"fill_alpha\":0.5,\"hatch_color\":\"#30a2da\",\"hatch_alpha\":0.1}},\"muted_glyph\":{\"type\":\"object\",\"name\":\"Patch\",\"id\":\"p1055\",\"attributes\":{\"tags\":[\"apply_ranges\"],\"x\":{\"type\":\"field\",\"field\":\"x\"},\"y\":{\"type\":\"field\",\"field\":\"y\"},\"line_alpha\":0.2,\"fill_color\":\"#30a2da\",\"fill_alpha\":0.2,\"hatch_color\":\"#30a2da\",\"hatch_alpha\":0.2}}}}],\"toolbar\":{\"type\":\"object\",\"name\":\"Toolbar\",\"id\":\"p1025\",\"attributes\":{\"tools\":[{\"type\":\"object\",\"name\":\"WheelZoomTool\",\"id\":\"p1014\",\"attributes\":{\"tags\":[\"hv_created\"],\"renderers\":\"auto\",\"zoom_together\":\"none\"}},{\"type\":\"object\",\"name\":\"HoverTool\",\"id\":\"p1015\",\"attributes\":{\"tags\":[\"hv_created\"],\"renderers\":[{\"id\":\"p1056\"}],\"tooltips\":[[\"Errores\",\"@{Errores}\"],[\"Density\",\"@{Errores_density}\"]]}},{\"type\":\"object\",\"name\":\"SaveTool\",\"id\":\"p1038\"},{\"type\":\"object\",\"name\":\"PanTool\",\"id\":\"p1039\"},{\"type\":\"object\",\"name\":\"BoxZoomTool\",\"id\":\"p1040\",\"attributes\":{\"overlay\":{\"type\":\"object\",\"name\":\"BoxAnnotation\",\"id\":\"p1041\",\"attributes\":{\"syncable\":false,\"level\":\"overlay\",\"visible\":false,\"left\":{\"type\":\"number\",\"value\":\"nan\"},\"right\":{\"type\":\"number\",\"value\":\"nan\"},\"top\":{\"type\":\"number\",\"value\":\"nan\"},\"bottom\":{\"type\":\"number\",\"value\":\"nan\"},\"left_units\":\"canvas\",\"right_units\":\"canvas\",\"top_units\":\"canvas\",\"bottom_units\":\"canvas\",\"line_color\":\"black\",\"line_alpha\":1.0,\"line_width\":2,\"line_dash\":[4,4],\"fill_color\":\"lightgrey\",\"fill_alpha\":0.5}}}},{\"type\":\"object\",\"name\":\"ResetTool\",\"id\":\"p1046\"}],\"active_drag\":{\"id\":\"p1039\"},\"active_scroll\":{\"id\":\"p1014\"}}},\"left\":[{\"type\":\"object\",\"name\":\"LinearAxis\",\"id\":\"p1033\",\"attributes\":{\"ticker\":{\"type\":\"object\",\"name\":\"BasicTicker\",\"id\":\"p1034\",\"attributes\":{\"mantissas\":[1,2,5]}},\"formatter\":{\"type\":\"object\",\"name\":\"BasicTickFormatter\",\"id\":\"p1035\"},\"axis_label\":\"Density\",\"major_label_policy\":{\"type\":\"object\",\"name\":\"AllLabels\",\"id\":\"p1036\"}}}],\"below\":[{\"type\":\"object\",\"name\":\"LinearAxis\",\"id\":\"p1028\",\"attributes\":{\"ticker\":{\"type\":\"object\",\"name\":\"BasicTicker\",\"id\":\"p1029\",\"attributes\":{\"mantissas\":[1,2,5]}},\"formatter\":{\"type\":\"object\",\"name\":\"BasicTickFormatter\",\"id\":\"p1030\"},\"axis_label\":\"Errores\",\"major_label_policy\":{\"type\":\"object\",\"name\":\"AllLabels\",\"id\":\"p1031\"}}}],\"center\":[{\"type\":\"object\",\"name\":\"Grid\",\"id\":\"p1032\",\"attributes\":{\"axis\":{\"id\":\"p1028\"},\"grid_line_color\":null}},{\"type\":\"object\",\"name\":\"Grid\",\"id\":\"p1037\",\"attributes\":{\"dimension\":1,\"axis\":{\"id\":\"p1033\"},\"grid_line_color\":null}}],\"min_border_top\":10,\"min_border_bottom\":10,\"min_border_left\":10,\"min_border_right\":10,\"output_backend\":\"webgl\"}},{\"type\":\"object\",\"name\":\"Spacer\",\"id\":\"p1061\",\"attributes\":{\"name\":\"HSpacer00964\",\"stylesheets\":[\"\\n:host(.pn-loading):before, .pn-loading:before {\\n  background-color: #c3c3c3;\\n  mask-size: auto calc(min(50%, 400px));\\n  -webkit-mask-size: auto calc(min(50%, 400px));\\n}\",{\"id\":\"p1007\"},{\"id\":\"p1005\"},{\"id\":\"p1006\"}],\"margin\":0,\"sizing_mode\":\"stretch_width\",\"align\":\"start\"}}]}}],\"defs\":[{\"type\":\"model\",\"name\":\"ReactiveHTML1\"},{\"type\":\"model\",\"name\":\"FlexBox1\",\"properties\":[{\"name\":\"align_content\",\"kind\":\"Any\",\"default\":\"flex-start\"},{\"name\":\"align_items\",\"kind\":\"Any\",\"default\":\"flex-start\"},{\"name\":\"flex_direction\",\"kind\":\"Any\",\"default\":\"row\"},{\"name\":\"flex_wrap\",\"kind\":\"Any\",\"default\":\"wrap\"},{\"name\":\"gap\",\"kind\":\"Any\",\"default\":\"\"},{\"name\":\"justify_content\",\"kind\":\"Any\",\"default\":\"flex-start\"}]},{\"type\":\"model\",\"name\":\"FloatPanel1\",\"properties\":[{\"name\":\"config\",\"kind\":\"Any\",\"default\":{\"type\":\"map\"}},{\"name\":\"contained\",\"kind\":\"Any\",\"default\":true},{\"name\":\"position\",\"kind\":\"Any\",\"default\":\"right-top\"},{\"name\":\"offsetx\",\"kind\":\"Any\",\"default\":null},{\"name\":\"offsety\",\"kind\":\"Any\",\"default\":null},{\"name\":\"theme\",\"kind\":\"Any\",\"default\":\"primary\"},{\"name\":\"status\",\"kind\":\"Any\",\"default\":\"normalized\"}]},{\"type\":\"model\",\"name\":\"GridStack1\",\"properties\":[{\"name\":\"mode\",\"kind\":\"Any\",\"default\":\"warn\"},{\"name\":\"ncols\",\"kind\":\"Any\",\"default\":null},{\"name\":\"nrows\",\"kind\":\"Any\",\"default\":null},{\"name\":\"allow_resize\",\"kind\":\"Any\",\"default\":true},{\"name\":\"allow_drag\",\"kind\":\"Any\",\"default\":true},{\"name\":\"state\",\"kind\":\"Any\",\"default\":[]}]},{\"type\":\"model\",\"name\":\"drag1\",\"properties\":[{\"name\":\"slider_width\",\"kind\":\"Any\",\"default\":5},{\"name\":\"slider_color\",\"kind\":\"Any\",\"default\":\"black\"},{\"name\":\"value\",\"kind\":\"Any\",\"default\":50}]},{\"type\":\"model\",\"name\":\"click1\",\"properties\":[{\"name\":\"terminal_output\",\"kind\":\"Any\",\"default\":\"\"},{\"name\":\"debug_name\",\"kind\":\"Any\",\"default\":\"\"},{\"name\":\"clears\",\"kind\":\"Any\",\"default\":0}]},{\"type\":\"model\",\"name\":\"FastWrapper1\",\"properties\":[{\"name\":\"object\",\"kind\":\"Any\",\"default\":null},{\"name\":\"style\",\"kind\":\"Any\",\"default\":null}]},{\"type\":\"model\",\"name\":\"NotificationAreaBase1\",\"properties\":[{\"name\":\"js_events\",\"kind\":\"Any\",\"default\":{\"type\":\"map\"}},{\"name\":\"position\",\"kind\":\"Any\",\"default\":\"bottom-right\"},{\"name\":\"_clear\",\"kind\":\"Any\",\"default\":0}]},{\"type\":\"model\",\"name\":\"NotificationArea1\",\"properties\":[{\"name\":\"js_events\",\"kind\":\"Any\",\"default\":{\"type\":\"map\"}},{\"name\":\"notifications\",\"kind\":\"Any\",\"default\":[]},{\"name\":\"position\",\"kind\":\"Any\",\"default\":\"bottom-right\"},{\"name\":\"_clear\",\"kind\":\"Any\",\"default\":0},{\"name\":\"types\",\"kind\":\"Any\",\"default\":[{\"type\":\"map\",\"entries\":[[\"type\",\"warning\"],[\"background\",\"#ffc107\"],[\"icon\",{\"type\":\"map\",\"entries\":[[\"className\",\"fas fa-exclamation-triangle\"],[\"tagName\",\"i\"],[\"color\",\"white\"]]}]]},{\"type\":\"map\",\"entries\":[[\"type\",\"info\"],[\"background\",\"#007bff\"],[\"icon\",{\"type\":\"map\",\"entries\":[[\"className\",\"fas fa-info-circle\"],[\"tagName\",\"i\"],[\"color\",\"white\"]]}]]}]}]},{\"type\":\"model\",\"name\":\"Notification\",\"properties\":[{\"name\":\"background\",\"kind\":\"Any\",\"default\":null},{\"name\":\"duration\",\"kind\":\"Any\",\"default\":3000},{\"name\":\"icon\",\"kind\":\"Any\",\"default\":null},{\"name\":\"message\",\"kind\":\"Any\",\"default\":\"\"},{\"name\":\"notification_type\",\"kind\":\"Any\",\"default\":null},{\"name\":\"_destroyed\",\"kind\":\"Any\",\"default\":false}]},{\"type\":\"model\",\"name\":\"TemplateActions1\",\"properties\":[{\"name\":\"open_modal\",\"kind\":\"Any\",\"default\":0},{\"name\":\"close_modal\",\"kind\":\"Any\",\"default\":0}]},{\"type\":\"model\",\"name\":\"BootstrapTemplateActions1\",\"properties\":[{\"name\":\"open_modal\",\"kind\":\"Any\",\"default\":0},{\"name\":\"close_modal\",\"kind\":\"Any\",\"default\":0}]},{\"type\":\"model\",\"name\":\"TemplateEditor1\",\"properties\":[{\"name\":\"layout\",\"kind\":\"Any\",\"default\":[]}]},{\"type\":\"model\",\"name\":\"MaterialTemplateActions1\",\"properties\":[{\"name\":\"open_modal\",\"kind\":\"Any\",\"default\":0},{\"name\":\"close_modal\",\"kind\":\"Any\",\"default\":0}]},{\"type\":\"model\",\"name\":\"copy_to_clipboard1\",\"properties\":[{\"name\":\"fill\",\"kind\":\"Any\",\"default\":\"none\"},{\"name\":\"value\",\"kind\":\"Any\",\"default\":null}]}]}};\n",
              "  var render_items = [{\"docid\":\"671edb97-f934-4251-a269-89188a053a0b\",\"roots\":{\"p1004\":\"ca023210-87c6-46af-bccd-a05e98c58146\"},\"root_ids\":[\"p1004\"]}];\n",
              "  var docs = Object.values(docs_json)\n",
              "  if (!docs) {\n",
              "    return\n",
              "  }\n",
              "  const py_version = docs[0].version.replace('rc', '-rc.').replace('.dev', '-dev.')\n",
              "  async function embed_document(root) {\n",
              "    var Bokeh = get_bokeh(root)\n",
              "    await Bokeh.embed.embed_items_notebook(docs_json, render_items);\n",
              "    for (const render_item of render_items) {\n",
              "      for (const root_id of render_item.root_ids) {\n",
              "\tconst id_el = document.getElementById(root_id)\n",
              "\tif (id_el.children.length && id_el.children[0].hasAttribute('data-root-id')) {\n",
              "\t  const root_el = id_el.children[0]\n",
              "\t  root_el.id = root_el.id + '-rendered'\n",
              "\t  for (const child of root_el.children) {\n",
              "            // Ensure JupyterLab does not capture keyboard shortcuts\n",
              "            // see: https://jupyterlab.readthedocs.io/en/4.1.x/extension/notebook.html#keyboard-interaction-model\n",
              "\t    child.setAttribute('data-lm-suppress-shortcuts', 'true')\n",
              "\t  }\n",
              "\t}\n",
              "      }\n",
              "    }\n",
              "  }\n",
              "  function get_bokeh(root) {\n",
              "    if (root.Bokeh === undefined) {\n",
              "      return null\n",
              "    } else if (root.Bokeh.version !== py_version) {\n",
              "      if (root.Bokeh.versions === undefined || !root.Bokeh.versions.has(py_version)) {\n",
              "\treturn null\n",
              "      }\n",
              "      return root.Bokeh.versions.get(py_version);\n",
              "    } else if (root.Bokeh.version === py_version) {\n",
              "      return root.Bokeh\n",
              "    }\n",
              "    return null\n",
              "  }\n",
              "  function is_loaded(root) {\n",
              "    var Bokeh = get_bokeh(root)\n",
              "    return (Bokeh != null && Bokeh.Panel !== undefined)\n",
              "  }\n",
              "  if (is_loaded(root)) {\n",
              "    embed_document(root);\n",
              "  } else {\n",
              "    var attempts = 0;\n",
              "    var timer = setInterval(function(root) {\n",
              "      if (is_loaded(root)) {\n",
              "        clearInterval(timer);\n",
              "        embed_document(root);\n",
              "      } else if (document.readyState == \"complete\") {\n",
              "        attempts++;\n",
              "        if (attempts > 200) {\n",
              "          clearInterval(timer);\n",
              "\t  var Bokeh = get_bokeh(root)\n",
              "\t  if (Bokeh == null || Bokeh.Panel == null) {\n",
              "            console.warn(\"Panel: ERROR: Unable to run Panel code because Bokeh or Panel library is missing\");\n",
              "\t  } else {\n",
              "\t    console.warn(\"Panel: WARNING: Attempting to render but not all required libraries could be resolved.\")\n",
              "\t    embed_document(root)\n",
              "\t  }\n",
              "        }\n",
              "      }\n",
              "    }, 25, root)\n",
              "  }\n",
              "})(window);</script>"
            ],
            "text/plain": [
              ":Distribution   [Errores]   (Density)"
            ]
          },
          "execution_count": 38,
          "metadata": {
            "application/vnd.holoviews_exec.v0+json": {
              "id": "p1004"
            }
          },
          "output_type": "execute_result"
        }
      ],
      "source": [
        "pd.DataFrame({'Errores': (test_residual)}).hvplot.kde()"
      ]
    },
    {
      "cell_type": "code",
      "execution_count": 39,
      "metadata": {
        "colab": {
          "base_uri": "https://localhost:8080/",
          "height": 524
        },
        "execution": {
          "iopub.execute_input": "2022-02-12T06:17:00.526663Z",
          "iopub.status.busy": "2022-02-12T06:17:00.526349Z",
          "iopub.status.idle": "2022-02-12T06:17:00.904371Z",
          "shell.execute_reply": "2022-02-12T06:17:00.903002Z",
          "shell.execute_reply.started": "2022-02-12T06:17:00.526632Z"
        },
        "id": "H5LLaVugkyR9",
        "outputId": "c57b5b31-374d-4065-bcef-2f6e3701bc2b",
        "trusted": true
      },
      "outputs": [
        {
          "data": {
            "text/plain": [
              "<seaborn.axisgrid.FacetGrid at 0x1732aed0710>"
            ]
          },
          "execution_count": 39,
          "metadata": {},
          "output_type": "execute_result"
        },
        {
          "data": {
            "image/png": "[encoded data removed]",
            "text/plain": [
              "<Figure size 500x500 with 1 Axes>"
            ]
          },
          "metadata": {},
          "output_type": "display_data"
        }
      ],
      "source": [
        "sns.displot(test_residual, bins=25, kde=True)"
      ]
    },
    {
      "cell_type": "markdown",
      "metadata": {
        "id": "KeoxCCVqkyR9"
      },
      "source": [
        "El gráfico demuestra una distribución cercana a la normal de los residudos por lo tanto podría decirse que el modelo se ajusta bastante bien a las observaciones por lo tanto es un buen modelo"
      ]
    },
    {
      "cell_type": "code",
      "execution_count": 40,
      "metadata": {
        "colab": {
          "base_uri": "https://localhost:8080/",
          "height": 448
        },
        "execution": {
          "iopub.execute_input": "2022-02-12T06:17:00.906727Z",
          "iopub.status.busy": "2022-02-12T06:17:00.906059Z",
          "iopub.status.idle": "2022-02-12T06:17:01.158875Z",
          "shell.execute_reply": "2022-02-12T06:17:01.157632Z",
          "shell.execute_reply.started": "2022-02-12T06:17:00.90668Z"
        },
        "id": "0DV0-LyCkyR9",
        "outputId": "75cce279-dd8a-4dac-a8ce-af9e8a82026b",
        "trusted": true
      },
      "outputs": [
        {
          "data": {
            "text/plain": [
              "<matplotlib.lines.Line2D at 0x17330a47ce0>"
            ]
          },
          "execution_count": 40,
          "metadata": {},
          "output_type": "execute_result"
        },
        {
          "data": {
            "image/png": "[encoded data removed]",
            "text/plain": [
              "<Figure size 640x480 with 1 Axes>"
            ]
          },
          "metadata": {},
          "output_type": "display_data"
        }
      ],
      "source": [
        "sns.scatterplot(x=y_test, y=test_residual)\n",
        "\n",
        "plt.axhline(y=0, color='r', ls='--')"
      ]
    },
    {
      "cell_type": "markdown",
      "metadata": {
        "id": "QnBZLhXlc0qa"
      },
      "source": [
        "## Coeficiente de determinación o R cuadrado\n",
        "Otra métrica muy usada es el **Coeficiente de determinación o R cuadrado**: Es la proporción de la varianza de la variable explicada por la regresión. Varía entre 0 y 1, siendo 0 el peor valor."
      ]
    },
    {
      "cell_type": "code",
      "execution_count": 41,
      "metadata": {
        "colab": {
          "base_uri": "https://localhost:8080/"
        },
        "id": "jaxHzoorbMo1",
        "outputId": "86ba9f61-d0bb-4c23-de2d-1a9297fb8b60"
      },
      "outputs": [
        {
          "name": "stdout",
          "output_type": "stream",
          "text": [
            "0.9022272471544487\n"
          ]
        }
      ],
      "source": [
        "r2 = r2_score(y_test, y_pred)\n",
        "print(r2)"
      ]
    },
    {
      "cell_type": "markdown",
      "metadata": {
        "id": "LwaeVzc5kyR9"
      },
      "source": [
        "Siendo que el coeficiente de determinación da cercano a 1 puede decirse que el modelo predice adecuadamente"
      ]
    }
  ],
  "metadata": {
    "colab": {
      "provenance": []
    },
    "kernelspec": {
      "display_name": "Python 3",
      "language": "python",
      "name": "python3"
    },
    "language_info": {
      "codemirror_mode": {
        "name": "ipython",
        "version": 3
      },
      "file_extension": ".py",
      "mimetype": "text/x-python",
      "name": "python",
      "nbconvert_exporter": "python",
      "pygments_lexer": "ipython3",
      "version": "3.12.4"
    }
  },
  "nbformat": 4,
  "nbformat_minor": 0
}
