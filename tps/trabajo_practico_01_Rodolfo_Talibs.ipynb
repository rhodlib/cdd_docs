{
  "cells": [
    {
      "cell_type": "markdown",
      "metadata": {
        "id": "lKYCmak87XQc"
      },
      "source": [
        "# Trabajo Práctico 01"
      ]
    },
    {
      "cell_type": "markdown",
      "metadata": {
        "id": "NyWqlHNAzIbX"
      },
      "source": [
        "## Ejercicio 01 **[2.5 puntos]**\n",
        "\n",
        "Desarrollar un programa que dado un texto me informe la cantidad de repeticiones de cada caracter con soporte key sensitive. Luego cifrarlo con las cantidades totales.\n",
        "```\n",
        "Por ejemplo: ala\n",
        "\t\ta = 2\n",
        "\t\tl = 1\n",
        "\n",
        "Respuesta: 212\n",
        "           ala\n",
        "```"
      ]
    },
    {
      "cell_type": "code",
      "execution_count": 14,
      "metadata": {
        "id": "jTB_6xv-zhgQ"
      },
      "outputs": [
        {
          "name": "stdout",
          "output_type": "stream",
          "text": [
            "Respuesta: \n",
            "\n",
            "Texto codificado:  1611186832868132822681333123686381323\n",
            "Texto original:    Vamos a ir a ver una pelicula al Cine\n"
          ]
        }
      ],
      "source": [
        "# Texto a codificar\n",
        "text: str = \"Vamos a ir a ver una pelicula al Cine\"\n",
        "# Diccionario donde se guardan los valores de las letras, tiene soporte key sensitive\n",
        "count_chars:dict = {}\n",
        "\n",
        "for char in text:\n",
        "    # Iteramos el texto y si el caracter no existe en el diccionario, contamos cuantas veces aparece en el texto\n",
        "    if char not in count_chars:\n",
        "        count_chars[char] = text.count(char)\n",
        "\n",
        "print(\"Respuesta: \\n\")\n",
        "print(\"Texto codificado: \",\"\".join([str(count_chars.get(char)) for char in text]))\n",
        "print(\"Texto original:   \",text)\n"
      ]
    },
    {
      "cell_type": "markdown",
      "metadata": {
        "id": "UKwQikqpzhz6"
      },
      "source": [
        "## Ejercicio 02 **[2.5 puntos]**\n",
        "\n",
        "Desarrollar un programa para que valide si una frase es palíndroma. No se deben tener en cuenta los caracteres especiales, es decir, solo tomar en cuenta letras y números.\n",
        "\n",
        "```\n",
        "Por ejemplo:\n",
        "  Es palindromo: eva usaba rimel y le miraba suave\n",
        "  No es palindromo: puro chile es tu cielo azulado\n",
        "```\n"
      ]
    },
    {
      "cell_type": "code",
      "execution_count": 15,
      "metadata": {
        "id": "dVVK4u0a0EKm"
      },
      "outputs": [
        {
          "name": "stdout",
          "output_type": "stream",
          "text": [
            "Es palindromo: eva usaba rimel y le miraba suave\n"
          ]
        }
      ],
      "source": [
        "# Texto para evaluar si es palindromo\n",
        "text:str = \"eva usaba rimel y le miraba suave\"\n",
        "\n",
        "# Limpiamos el texto y dejamos solamente los caracteres alfanumericos\n",
        "clean_text:str = \"\".join([char for char in text if char.isalnum()])\n",
        "\n",
        "# Creamos una variable con el text limpio pero invertido\n",
        "clean_text_reverse:str = clean_text[::-1]\n",
        "\n",
        "# Comparamos si son iguales para denominar si es palindromo o no\n",
        "print(f\"Es palindromo: {text}\" if clean_text == clean_text_reverse else f\"No es palindromo: {text}\")"
      ]
    },
    {
      "cell_type": "markdown",
      "metadata": {
        "id": "1e_Au9Sn1t5U"
      },
      "source": [
        "## Ejercicio 03 **[2.5 puntos]**\n",
        "\n",
        "Entre todos los enteros mayores a 1 hay solamente cuatro que pueden ser representados por la suma de los cubos de sus dígitos. Desarrolle un programa para poder determinar los números.\n",
        "\n",
        "Ayuda: Los números son menores a 500.\n",
        "\n",
        "```\n",
        "Resultado:\t153,370,371,407\n",
        "```"
      ]
    },
    {
      "cell_type": "code",
      "execution_count": 16,
      "metadata": {
        "id": "5vPznd_w1uDp"
      },
      "outputs": [
        {
          "name": "stdout",
          "output_type": "stream",
          "text": [
            "Los numeros son:  [153, 370, 371, 407]\n"
          ]
        }
      ],
      "source": [
        "# Limito el rango de iteraciones ya que tenemos el dato de la ayuda, sino se podria usar un flag que corte cuando llegue a 4.\n",
        "max_range:int = 500\n",
        "\n",
        "# Creo una funcion que devuelve true si el numero es igual a la suma del cubo de sus digitos\n",
        "def number_sum_cube(num: int) -> bool:\n",
        "    return num == sum([int(n) ** 3 for n in str(num)])\n",
        "\n",
        "# Aplico la funcion en una lista \n",
        "print(\"Los numeros son: \", [num for num in range(2, max_range) if number_sum_cube(num)])"
      ]
    },
    {
      "cell_type": "markdown",
      "metadata": {
        "id": "-1RKRcm0xZf6"
      },
      "source": [
        "## Ejercicio 04 **[2.5 puntos]**\n",
        "\n",
        "Escribir un programa para la computadora adivine el número entero que estoy pensando.\n",
        "\n",
        "Se debe ingresar un intervalo de trabajo con un número mínimo y un máximo para que la computadora pueda elegir un número dentro del intervalo. Se deben cumplir las siguientes pautas:\n",
        "\n",
        "- No se puede preguntar por números ya verificados o preguntados con anterioridad.\n",
        "- A la pregunta si el número es correcto solo admite las respuestas es igual, es menor o es mayor.\n",
        "\n",
        "Ayuda: ver randint."
      ]
    },
    {
      "cell_type": "code",
      "execution_count": 17,
      "metadata": {
        "id": "0jrL1vrS1rvx"
      },
      "outputs": [
        {
          "name": "stdout",
          "output_type": "stream",
          "text": [
            "¡He adivinado tu número! Era 5 y solo me ha llevado 5 intentos :D\n"
          ]
        }
      ],
      "source": [
        "from random import randint\n",
        "\n",
        "# Creamos una funcion para la adivinanza\n",
        "def get_number(min:int, max:int, attempts = []) -> bool:\n",
        "    # Creamos un numero random entero\n",
        "    riddle = randint(min, max)\n",
        "\n",
        "    # Nos fijamos que no este en las opciones \n",
        "    while riddle in attempts:\n",
        "        riddle = randint(min, max)\n",
        "    \n",
        "    # Si no esta, lo agregamos a los intentos que realizamos\n",
        "    attempts.append(riddle)\n",
        "\n",
        "    # Preguntamos al usuario si el numero es igual, mayor o menor\n",
        "    response = input(f\"¿El número que elegiste es {riddle}? (es igual / es menor / es mayor)\").strip().lower()\n",
        "\n",
        "    # Dependiendo la respuesta utilizamos un enfoque recursivo para realizar la accion a seguir.\n",
        "    if response == \"es igual\":\n",
        "        print(f\"¡He adivinado tu número! Era {riddle} y solo me ha llevado {len(attempts)} intentos :D\")\n",
        "    elif response == \"es menor\":\n",
        "        get_number(min, riddle - 1, attempts)\n",
        "    elif response == \"es mayor\":\n",
        "        get_number(riddle + 1, max, attempts)\n",
        "    else:\n",
        "        print(\"La respuesta ingresada no es válida, tiene que responder con (es igual / es menor / es mayor)\")\n",
        "        get_number(min, max, attempts)\n",
        "\n",
        "# Preguntamos los numeros del intervalo, teniendo en cuenta que falle si ponen un caracter invalido.\n",
        "try:\n",
        "    min_number:int = int(input(\"Ingresa el número mínimo del intervalo: \"))\n",
        "    max_number:int = int(input(\"Ingresa el número máximo del intervalo: \"))\n",
        "    get_number(min_number, max_number)\n",
        "except:\n",
        "    print(\"Se ingresó un número inválido en el intervalo, vuelva a intentarlo.\")"
      ]
    }
  ],
  "metadata": {
    "colab": {
      "provenance": []
    },
    "kernelspec": {
      "display_name": "Python 3",
      "name": "python3"
    },
    "language_info": {
      "codemirror_mode": {
        "name": "ipython",
        "version": 3
      },
      "file_extension": ".py",
      "mimetype": "text/x-python",
      "name": "python",
      "nbconvert_exporter": "python",
      "pygments_lexer": "ipython3",
      "version": "3.12.4"
    }
  },
  "nbformat": 4,
  "nbformat_minor": 0
}
