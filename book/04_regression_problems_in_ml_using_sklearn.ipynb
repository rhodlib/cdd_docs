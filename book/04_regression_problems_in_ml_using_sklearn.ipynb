{
 "cells": [
  {
   "cell_type": "markdown",
   "metadata": {},
   "source": [
    "# Solucionando problemas de Regresion en ML usando \n",
    "\n",
    "Machine learning es una rama de la inteligencia artificial, que permite a los programas de computadora aprender automaticamente y mejorar de la experiencia.\n",
    "\n",
    "Los algoritmos de ML aprenden de datasets y luego hacen predicciones basados en patrones.\n",
    "\n",
    "Se pueden categorizar en dos tipos, supervisados y no supervisados.\n",
    "\n",
    "Los algoritmos supervisados son aquellos donde el dataset de entrada y la correspondientes salida o prediccion verdadera estan habilitados, o sea, el argoritmo trata de encontrar relaciones entre entradas y salidas.\n",
    "\n",
    "Los no supervisados nose se conocen los valores verdaderos, en cambio el algoritmo trata de encontrar patrones similares en los datos. Un ejemplo tipico son los de clusterizacion.\n",
    "\n",
    "Los algoritmos de regresion preciden valores continuos, por ejemplo el precio de una casa, la presion en sangre de una persona, una puntuacion particular en el examen de algun estudiante.\n",
    "Por el otro lado los algoritmos de clasificacion preciden un valor discreto, como por ejemplo si un alumno va a pasar o no un examen."
   ]
  },
  {
   "cell_type": "markdown",
   "metadata": {},
   "source": [
    "## Preparando los datos para problemas de regresion"
   ]
  },
  {
   "cell_type": "code",
   "execution_count": 1,
   "metadata": {},
   "outputs": [
    {
     "data": {
      "text/plain": [
       "['anagrams',\n",
       " 'anscombe',\n",
       " 'attention',\n",
       " 'brain_networks',\n",
       " 'car_crashes',\n",
       " 'diamonds',\n",
       " 'dots',\n",
       " 'dowjones',\n",
       " 'exercise',\n",
       " 'flights',\n",
       " 'fmri',\n",
       " 'geyser',\n",
       " 'glue',\n",
       " 'healthexp',\n",
       " 'iris',\n",
       " 'mpg',\n",
       " 'penguins',\n",
       " 'planets',\n",
       " 'seaice',\n",
       " 'taxis',\n",
       " 'tips',\n",
       " 'titanic']"
      ]
     },
     "execution_count": 1,
     "metadata": {},
     "output_type": "execute_result"
    }
   ],
   "source": [
    "import pandas as pd\n",
    "import numpy as np\n",
    "import seaborn as sns\n",
    "\n",
    "sns.get_dataset_names() # Con esta funcion podemos ver los datasets que tiene integrado seaborn"
   ]
  },
  {
   "cell_type": "code",
   "execution_count": 2,
   "metadata": {},
   "outputs": [
    {
     "data": {
      "text/html": [
       "<div>\n",
       "<style scoped>\n",
       "    .dataframe tbody tr th:only-of-type {\n",
       "        vertical-align: middle;\n",
       "    }\n",
       "\n",
       "    .dataframe tbody tr th {\n",
       "        vertical-align: top;\n",
       "    }\n",
       "\n",
       "    .dataframe thead th {\n",
       "        text-align: right;\n",
       "    }\n",
       "</style>\n",
       "<table border=\"1\" class=\"dataframe\">\n",
       "  <thead>\n",
       "    <tr style=\"text-align: right;\">\n",
       "      <th></th>\n",
       "      <th>total_bill</th>\n",
       "      <th>tip</th>\n",
       "      <th>sex</th>\n",
       "      <th>smoker</th>\n",
       "      <th>day</th>\n",
       "      <th>time</th>\n",
       "      <th>size</th>\n",
       "    </tr>\n",
       "  </thead>\n",
       "  <tbody>\n",
       "    <tr>\n",
       "      <th>0</th>\n",
       "      <td>16.99</td>\n",
       "      <td>1.01</td>\n",
       "      <td>Female</td>\n",
       "      <td>No</td>\n",
       "      <td>Sun</td>\n",
       "      <td>Dinner</td>\n",
       "      <td>2</td>\n",
       "    </tr>\n",
       "    <tr>\n",
       "      <th>1</th>\n",
       "      <td>10.34</td>\n",
       "      <td>1.66</td>\n",
       "      <td>Male</td>\n",
       "      <td>No</td>\n",
       "      <td>Sun</td>\n",
       "      <td>Dinner</td>\n",
       "      <td>3</td>\n",
       "    </tr>\n",
       "    <tr>\n",
       "      <th>2</th>\n",
       "      <td>21.01</td>\n",
       "      <td>3.50</td>\n",
       "      <td>Male</td>\n",
       "      <td>No</td>\n",
       "      <td>Sun</td>\n",
       "      <td>Dinner</td>\n",
       "      <td>3</td>\n",
       "    </tr>\n",
       "    <tr>\n",
       "      <th>3</th>\n",
       "      <td>23.68</td>\n",
       "      <td>3.31</td>\n",
       "      <td>Male</td>\n",
       "      <td>No</td>\n",
       "      <td>Sun</td>\n",
       "      <td>Dinner</td>\n",
       "      <td>2</td>\n",
       "    </tr>\n",
       "    <tr>\n",
       "      <th>4</th>\n",
       "      <td>24.59</td>\n",
       "      <td>3.61</td>\n",
       "      <td>Female</td>\n",
       "      <td>No</td>\n",
       "      <td>Sun</td>\n",
       "      <td>Dinner</td>\n",
       "      <td>4</td>\n",
       "    </tr>\n",
       "  </tbody>\n",
       "</table>\n",
       "</div>"
      ],
      "text/plain": [
       "   total_bill   tip     sex smoker  day    time  size\n",
       "0       16.99  1.01  Female     No  Sun  Dinner     2\n",
       "1       10.34  1.66    Male     No  Sun  Dinner     3\n",
       "2       21.01  3.50    Male     No  Sun  Dinner     3\n",
       "3       23.68  3.31    Male     No  Sun  Dinner     2\n",
       "4       24.59  3.61  Female     No  Sun  Dinner     4"
      ]
     },
     "execution_count": 2,
     "metadata": {},
     "output_type": "execute_result"
    }
   ],
   "source": [
    "tips_df = sns.load_dataset(\"tips\")\n",
    "tips_df.head()"
   ]
  },
  {
   "cell_type": "markdown",
   "metadata": {},
   "source": [
    "Se va a trabajar con el dataset de propinas, y se utilizara algoritmos de machine learning para predecir la propina por un registro particular, basado en las caracteristicas restantes como \"total_bill\", \"sex\", \"day\", \"time\", etc"
   ]
  },
  {
   "cell_type": "code",
   "execution_count": 3,
   "metadata": {},
   "outputs": [
    {
     "data": {
      "text/html": [
       "<div>\n",
       "<style scoped>\n",
       "    .dataframe tbody tr th:only-of-type {\n",
       "        vertical-align: middle;\n",
       "    }\n",
       "\n",
       "    .dataframe tbody tr th {\n",
       "        vertical-align: top;\n",
       "    }\n",
       "\n",
       "    .dataframe thead th {\n",
       "        text-align: right;\n",
       "    }\n",
       "</style>\n",
       "<table border=\"1\" class=\"dataframe\">\n",
       "  <thead>\n",
       "    <tr style=\"text-align: right;\">\n",
       "      <th></th>\n",
       "      <th>total_bill</th>\n",
       "      <th>sex</th>\n",
       "      <th>smoker</th>\n",
       "      <th>day</th>\n",
       "      <th>time</th>\n",
       "      <th>size</th>\n",
       "    </tr>\n",
       "  </thead>\n",
       "  <tbody>\n",
       "    <tr>\n",
       "      <th>0</th>\n",
       "      <td>16.99</td>\n",
       "      <td>Female</td>\n",
       "      <td>No</td>\n",
       "      <td>Sun</td>\n",
       "      <td>Dinner</td>\n",
       "      <td>2</td>\n",
       "    </tr>\n",
       "    <tr>\n",
       "      <th>1</th>\n",
       "      <td>10.34</td>\n",
       "      <td>Male</td>\n",
       "      <td>No</td>\n",
       "      <td>Sun</td>\n",
       "      <td>Dinner</td>\n",
       "      <td>3</td>\n",
       "    </tr>\n",
       "    <tr>\n",
       "      <th>2</th>\n",
       "      <td>21.01</td>\n",
       "      <td>Male</td>\n",
       "      <td>No</td>\n",
       "      <td>Sun</td>\n",
       "      <td>Dinner</td>\n",
       "      <td>3</td>\n",
       "    </tr>\n",
       "    <tr>\n",
       "      <th>3</th>\n",
       "      <td>23.68</td>\n",
       "      <td>Male</td>\n",
       "      <td>No</td>\n",
       "      <td>Sun</td>\n",
       "      <td>Dinner</td>\n",
       "      <td>2</td>\n",
       "    </tr>\n",
       "    <tr>\n",
       "      <th>4</th>\n",
       "      <td>24.59</td>\n",
       "      <td>Female</td>\n",
       "      <td>No</td>\n",
       "      <td>Sun</td>\n",
       "      <td>Dinner</td>\n",
       "      <td>4</td>\n",
       "    </tr>\n",
       "  </tbody>\n",
       "</table>\n",
       "</div>"
      ],
      "text/plain": [
       "   total_bill     sex smoker  day    time  size\n",
       "0       16.99  Female     No  Sun  Dinner     2\n",
       "1       10.34    Male     No  Sun  Dinner     3\n",
       "2       21.01    Male     No  Sun  Dinner     3\n",
       "3       23.68    Male     No  Sun  Dinner     2\n",
       "4       24.59  Female     No  Sun  Dinner     4"
      ]
     },
     "execution_count": 3,
     "metadata": {},
     "output_type": "execute_result"
    }
   ],
   "source": [
    "# Dividiendo datos entre caracteristicas y etiquetas\n",
    "\n",
    "X = tips_df.drop([\"tip\"],axis=1)\n",
    "y = tips_df[\"tip\"]\n",
    "\n",
    "X.head()"
   ]
  },
  {
   "cell_type": "code",
   "execution_count": 4,
   "metadata": {},
   "outputs": [
    {
     "data": {
      "text/plain": [
       "0    1.01\n",
       "1    1.66\n",
       "2    3.50\n",
       "3    3.31\n",
       "4    3.61\n",
       "Name: tip, dtype: float64"
      ]
     },
     "execution_count": 4,
     "metadata": {},
     "output_type": "execute_result"
    }
   ],
   "source": [
    "y.head()"
   ]
  },
  {
   "cell_type": "code",
   "execution_count": 5,
   "metadata": {},
   "outputs": [
    {
     "data": {
      "text/html": [
       "<div>\n",
       "<style scoped>\n",
       "    .dataframe tbody tr th:only-of-type {\n",
       "        vertical-align: middle;\n",
       "    }\n",
       "\n",
       "    .dataframe tbody tr th {\n",
       "        vertical-align: top;\n",
       "    }\n",
       "\n",
       "    .dataframe thead th {\n",
       "        text-align: right;\n",
       "    }\n",
       "</style>\n",
       "<table border=\"1\" class=\"dataframe\">\n",
       "  <thead>\n",
       "    <tr style=\"text-align: right;\">\n",
       "      <th></th>\n",
       "      <th>total_bill</th>\n",
       "      <th>size</th>\n",
       "    </tr>\n",
       "  </thead>\n",
       "  <tbody>\n",
       "    <tr>\n",
       "      <th>0</th>\n",
       "      <td>16.99</td>\n",
       "      <td>2</td>\n",
       "    </tr>\n",
       "    <tr>\n",
       "      <th>1</th>\n",
       "      <td>10.34</td>\n",
       "      <td>3</td>\n",
       "    </tr>\n",
       "    <tr>\n",
       "      <th>2</th>\n",
       "      <td>21.01</td>\n",
       "      <td>3</td>\n",
       "    </tr>\n",
       "    <tr>\n",
       "      <th>3</th>\n",
       "      <td>23.68</td>\n",
       "      <td>2</td>\n",
       "    </tr>\n",
       "    <tr>\n",
       "      <th>4</th>\n",
       "      <td>24.59</td>\n",
       "      <td>4</td>\n",
       "    </tr>\n",
       "  </tbody>\n",
       "</table>\n",
       "</div>"
      ],
      "text/plain": [
       "   total_bill  size\n",
       "0       16.99     2\n",
       "1       10.34     3\n",
       "2       21.01     3\n",
       "3       23.68     2\n",
       "4       24.59     4"
      ]
     },
     "execution_count": 5,
     "metadata": {},
     "output_type": "execute_result"
    }
   ],
   "source": [
    "# Conversion de datos categoricos en numeros\n",
    "\n",
    "\"\"\"\n",
    "Los algoritmos de machine learning en su mayor parte, solo puedn trabajar con numeros.\n",
    "De tal manera es importante convertir los datos categoricos en formato numerico.\n",
    "\"\"\"\n",
    "\n",
    "numerical = X.drop([\"sex\",'smoker','day','time'], axis=1)\n",
    "numerical.head()"
   ]
  },
  {
   "cell_type": "code",
   "execution_count": 6,
   "metadata": {},
   "outputs": [
    {
     "data": {
      "text/html": [
       "<div>\n",
       "<style scoped>\n",
       "    .dataframe tbody tr th:only-of-type {\n",
       "        vertical-align: middle;\n",
       "    }\n",
       "\n",
       "    .dataframe tbody tr th {\n",
       "        vertical-align: top;\n",
       "    }\n",
       "\n",
       "    .dataframe thead th {\n",
       "        text-align: right;\n",
       "    }\n",
       "</style>\n",
       "<table border=\"1\" class=\"dataframe\">\n",
       "  <thead>\n",
       "    <tr style=\"text-align: right;\">\n",
       "      <th></th>\n",
       "      <th>sex</th>\n",
       "      <th>smoker</th>\n",
       "      <th>day</th>\n",
       "      <th>time</th>\n",
       "    </tr>\n",
       "  </thead>\n",
       "  <tbody>\n",
       "    <tr>\n",
       "      <th>0</th>\n",
       "      <td>Female</td>\n",
       "      <td>No</td>\n",
       "      <td>Sun</td>\n",
       "      <td>Dinner</td>\n",
       "    </tr>\n",
       "    <tr>\n",
       "      <th>1</th>\n",
       "      <td>Male</td>\n",
       "      <td>No</td>\n",
       "      <td>Sun</td>\n",
       "      <td>Dinner</td>\n",
       "    </tr>\n",
       "    <tr>\n",
       "      <th>2</th>\n",
       "      <td>Male</td>\n",
       "      <td>No</td>\n",
       "      <td>Sun</td>\n",
       "      <td>Dinner</td>\n",
       "    </tr>\n",
       "    <tr>\n",
       "      <th>3</th>\n",
       "      <td>Male</td>\n",
       "      <td>No</td>\n",
       "      <td>Sun</td>\n",
       "      <td>Dinner</td>\n",
       "    </tr>\n",
       "    <tr>\n",
       "      <th>4</th>\n",
       "      <td>Female</td>\n",
       "      <td>No</td>\n",
       "      <td>Sun</td>\n",
       "      <td>Dinner</td>\n",
       "    </tr>\n",
       "  </tbody>\n",
       "</table>\n",
       "</div>"
      ],
      "text/plain": [
       "      sex smoker  day    time\n",
       "0  Female     No  Sun  Dinner\n",
       "1    Male     No  Sun  Dinner\n",
       "2    Male     No  Sun  Dinner\n",
       "3    Male     No  Sun  Dinner\n",
       "4  Female     No  Sun  Dinner"
      ]
     },
     "execution_count": 6,
     "metadata": {},
     "output_type": "execute_result"
    }
   ],
   "source": [
    "# Creamos un dataframe que contenga solo datos categoricos\n",
    "\n",
    "categorical = X.filter(['sex','smoker','day','time'])\n",
    "categorical.head()"
   ]
  },
  {
   "cell_type": "code",
   "execution_count": 7,
   "metadata": {},
   "outputs": [
    {
     "data": {
      "text/html": [
       "<div>\n",
       "<style scoped>\n",
       "    .dataframe tbody tr th:only-of-type {\n",
       "        vertical-align: middle;\n",
       "    }\n",
       "\n",
       "    .dataframe tbody tr th {\n",
       "        vertical-align: top;\n",
       "    }\n",
       "\n",
       "    .dataframe thead th {\n",
       "        text-align: right;\n",
       "    }\n",
       "</style>\n",
       "<table border=\"1\" class=\"dataframe\">\n",
       "  <thead>\n",
       "    <tr style=\"text-align: right;\">\n",
       "      <th></th>\n",
       "      <th>sex_Female</th>\n",
       "      <th>smoker_No</th>\n",
       "      <th>day_Fri</th>\n",
       "      <th>day_Sat</th>\n",
       "      <th>day_Sun</th>\n",
       "      <th>time_Dinner</th>\n",
       "    </tr>\n",
       "  </thead>\n",
       "  <tbody>\n",
       "    <tr>\n",
       "      <th>0</th>\n",
       "      <td>True</td>\n",
       "      <td>True</td>\n",
       "      <td>False</td>\n",
       "      <td>False</td>\n",
       "      <td>True</td>\n",
       "      <td>True</td>\n",
       "    </tr>\n",
       "    <tr>\n",
       "      <th>1</th>\n",
       "      <td>False</td>\n",
       "      <td>True</td>\n",
       "      <td>False</td>\n",
       "      <td>False</td>\n",
       "      <td>True</td>\n",
       "      <td>True</td>\n",
       "    </tr>\n",
       "    <tr>\n",
       "      <th>2</th>\n",
       "      <td>False</td>\n",
       "      <td>True</td>\n",
       "      <td>False</td>\n",
       "      <td>False</td>\n",
       "      <td>True</td>\n",
       "      <td>True</td>\n",
       "    </tr>\n",
       "    <tr>\n",
       "      <th>3</th>\n",
       "      <td>False</td>\n",
       "      <td>True</td>\n",
       "      <td>False</td>\n",
       "      <td>False</td>\n",
       "      <td>True</td>\n",
       "      <td>True</td>\n",
       "    </tr>\n",
       "    <tr>\n",
       "      <th>4</th>\n",
       "      <td>True</td>\n",
       "      <td>True</td>\n",
       "      <td>False</td>\n",
       "      <td>False</td>\n",
       "      <td>True</td>\n",
       "      <td>True</td>\n",
       "    </tr>\n",
       "  </tbody>\n",
       "</table>\n",
       "</div>"
      ],
      "text/plain": [
       "   sex_Female  smoker_No  day_Fri  day_Sat  day_Sun  time_Dinner\n",
       "0        True       True    False    False     True         True\n",
       "1       False       True    False    False     True         True\n",
       "2       False       True    False    False     True         True\n",
       "3       False       True    False    False     True         True\n",
       "4        True       True    False    False     True         True"
      ]
     },
     "execution_count": 7,
     "metadata": {},
     "output_type": "execute_result"
    }
   ],
   "source": [
    "# Con el siguiente metodo llamada pd.get_dummies() podemos encodear las columnas para convertir los datos categoricos en one-hot\n",
    "\n",
    "cat_numerical = pd.get_dummies(categorical, drop_first=True)\n",
    "cat_numerical.head()"
   ]
  },
  {
   "cell_type": "code",
   "execution_count": 8,
   "metadata": {},
   "outputs": [
    {
     "data": {
      "text/html": [
       "<div>\n",
       "<style scoped>\n",
       "    .dataframe tbody tr th:only-of-type {\n",
       "        vertical-align: middle;\n",
       "    }\n",
       "\n",
       "    .dataframe tbody tr th {\n",
       "        vertical-align: top;\n",
       "    }\n",
       "\n",
       "    .dataframe thead th {\n",
       "        text-align: right;\n",
       "    }\n",
       "</style>\n",
       "<table border=\"1\" class=\"dataframe\">\n",
       "  <thead>\n",
       "    <tr style=\"text-align: right;\">\n",
       "      <th></th>\n",
       "      <th>total_bill</th>\n",
       "      <th>size</th>\n",
       "      <th>sex_Female</th>\n",
       "      <th>smoker_No</th>\n",
       "      <th>day_Fri</th>\n",
       "      <th>day_Sat</th>\n",
       "      <th>day_Sun</th>\n",
       "      <th>time_Dinner</th>\n",
       "    </tr>\n",
       "  </thead>\n",
       "  <tbody>\n",
       "    <tr>\n",
       "      <th>0</th>\n",
       "      <td>16.99</td>\n",
       "      <td>2</td>\n",
       "      <td>True</td>\n",
       "      <td>True</td>\n",
       "      <td>False</td>\n",
       "      <td>False</td>\n",
       "      <td>True</td>\n",
       "      <td>True</td>\n",
       "    </tr>\n",
       "    <tr>\n",
       "      <th>1</th>\n",
       "      <td>10.34</td>\n",
       "      <td>3</td>\n",
       "      <td>False</td>\n",
       "      <td>True</td>\n",
       "      <td>False</td>\n",
       "      <td>False</td>\n",
       "      <td>True</td>\n",
       "      <td>True</td>\n",
       "    </tr>\n",
       "    <tr>\n",
       "      <th>2</th>\n",
       "      <td>21.01</td>\n",
       "      <td>3</td>\n",
       "      <td>False</td>\n",
       "      <td>True</td>\n",
       "      <td>False</td>\n",
       "      <td>False</td>\n",
       "      <td>True</td>\n",
       "      <td>True</td>\n",
       "    </tr>\n",
       "    <tr>\n",
       "      <th>3</th>\n",
       "      <td>23.68</td>\n",
       "      <td>2</td>\n",
       "      <td>False</td>\n",
       "      <td>True</td>\n",
       "      <td>False</td>\n",
       "      <td>False</td>\n",
       "      <td>True</td>\n",
       "      <td>True</td>\n",
       "    </tr>\n",
       "    <tr>\n",
       "      <th>4</th>\n",
       "      <td>24.59</td>\n",
       "      <td>4</td>\n",
       "      <td>True</td>\n",
       "      <td>True</td>\n",
       "      <td>False</td>\n",
       "      <td>False</td>\n",
       "      <td>True</td>\n",
       "      <td>True</td>\n",
       "    </tr>\n",
       "  </tbody>\n",
       "</table>\n",
       "</div>"
      ],
      "text/plain": [
       "   total_bill  size  sex_Female  smoker_No  day_Fri  day_Sat  day_Sun  \\\n",
       "0       16.99     2        True       True    False    False     True   \n",
       "1       10.34     3       False       True    False    False     True   \n",
       "2       21.01     3       False       True    False    False     True   \n",
       "3       23.68     2       False       True    False    False     True   \n",
       "4       24.59     4        True       True    False    False     True   \n",
       "\n",
       "   time_Dinner  \n",
       "0         True  \n",
       "1         True  \n",
       "2         True  \n",
       "3         True  \n",
       "4         True  "
      ]
     },
     "execution_count": 8,
     "metadata": {},
     "output_type": "execute_result"
    }
   ],
   "source": [
    "# El paso final es unir las columnas numericas con las columnas one-hot encoded utilizando la funcion concat.\n",
    "\n",
    "X = pd.concat([numerical, cat_numerical], axis=1)\n",
    "X.head()"
   ]
  },
  {
   "cell_type": "markdown",
   "metadata": {},
   "source": [
    "## Dividir los datos en entrenamiento y test"
   ]
  },
  {
   "cell_type": "code",
   "execution_count": 9,
   "metadata": {},
   "outputs": [],
   "source": [
    "\"\"\"\n",
    "Para realizar un split de datos para entrenamiento y test se puede utilizar la funcion train_test_split() que viene en la libreria\n",
    "de Sklearn\n",
    "\"\"\"\n",
    "\n",
    "from sklearn.model_selection import train_test_split\n",
    "from sklearn.preprocessing import StandardScaler\n",
    "\n",
    "X_train, X_test, y_train, y_test = train_test_split(X, y, test_size=0.20, random_state=0)\n",
    "\n",
    "\"\"\"\n",
    "Hay un paso mas que es opcional, antes de que la data sea pasada al algoritmo de ML, es escalar los datos.\n",
    "se puede ver que columnas del dataset tienen valores chicos y otros valores demaciados grandes, siempre es mejor convertirlos en valores de escala uniforme\n",
    "para hacerlo podemos utilizar el metodo StandarScaler() del modulo de preprocessing\n",
    "\"\"\"\n",
    "\n",
    "sc = StandardScaler()\n",
    "# Escalando el dataset de entrenamiento\n",
    "X_train = sc.fit_transform(X_train)\n",
    "\n",
    "# Escalamos el dataset de test\n",
    "X_test = sc.transform(X_test)"
   ]
  },
  {
   "cell_type": "markdown",
   "metadata": {},
   "source": [
    "## Regresion lineal\n",
    "\n",
    "La regresion lineal es un modelo que presume una relacion lineal entre entredas y salidas y minimiza el costo de error entre la salida predictiva y la actual\n",
    "utilizando funciones como el promedio absoluto de error entre diferentes puntos de los datos.\n",
    "\n",
    "Por que utilizar un algoritmo de regresion lineal?\n",
    "\n",
    "1. La regresion lineal es simple de implementar y facil de interpretar.\n",
    "2. Toma menos tiempo de entrenamiento, incluso para datasets muy grandes.\n",
    "3. Los coeficientes de regresion lineal son facil de interpretar.\n",
    "\n",
    "Cuales son las desventajas de los algoritmos de regresion lineal o KNN ?\n",
    "\n",
    "1. La performance es facilmente afectada por valores atipicos.\n",
    "2. Asume una relacion lineal entre variables dependientes e independientes, que puede resultar en un incremento del error."
   ]
  },
  {
   "cell_type": "code",
   "execution_count": 10,
   "metadata": {},
   "outputs": [],
   "source": [
    "# Importamos el algoritmo para entrenar desde la librearia de sklearn\n",
    "from sklearn.linear_model import LinearRegression\n",
    "\n",
    "# Entrenamos el algoritmo\n",
    "lin_reg = LinearRegression()\n",
    "\n",
    "regressor = lin_reg.fit(X_train, y_train)\n",
    "\n",
    "# Haciendo predicciones con el dataframe de testing\n",
    "y_pred = regressor.predict(X_test)"
   ]
  },
  {
   "cell_type": "markdown",
   "metadata": {},
   "source": [
    "Una vez que tenemos nuestro modelo entrenado, e hicimos algunas predicciones con el dataframe de prueba.\n",
    "El siguiente paso es entender que tan bien nuestro moldelo performo, haciendo predicciones.\n",
    "\n",
    "Para eso hay varias metricas a tener en cuenta\n",
    "\n",
    "### Media de error absoluto (MAE - Mean Absolute Error)\n",
    "Es calculado tomando el promedio del valor absoluto obtenido , restando los valores reales de las predicciones\n",
    "\n",
    "### Media de error cuadrado (MSE - Mean Squared Error)\n",
    "Es similar al MAE, el error por cada registro es elevado al cuadrado en el caso del MSE para castigar los registros\n",
    "con una gran diferencia entre las predicciones y los valores actuales\n",
    "\n",
    "### Raiz media de error cuadrado\n",
    "Raiz media del error cuadrado es simplemente la raiz de la media del error al cuadrado."
   ]
  },
  {
   "cell_type": "code",
   "execution_count": 11,
   "metadata": {},
   "outputs": [
    {
     "name": "stdout",
     "output_type": "stream",
     "text": [
      "Mean Absolute Error 0.7080218832979828\n",
      "Mean Squared Error 0.8939195221609608\n",
      "Root Mean Squared Error 0.9454731736865731\n"
     ]
    }
   ],
   "source": [
    "# Los metodos usados para buscar el valor de las metricas anteriores, estan en la libreria de sklearn\n",
    "\n",
    "from sklearn import metrics\n",
    "\n",
    "print(\"Mean Absolute Error\", metrics.mean_absolute_error(y_test, y_pred))\n",
    "print(\"Mean Squared Error\", metrics.mean_squared_error(y_test, y_pred))\n",
    "print(\"Root Mean Squared Error\", np.sqrt(metrics.mean_squared_error(y_test, y_pred)))"
   ]
  },
  {
   "cell_type": "markdown",
   "metadata": {},
   "source": [
    "En la salida podemos ver la media del error absoluto y concluir que en promedio hay un error de 0.70 para las predicciones,\n",
    "que puede significar que en primedio la prediccion de los valores de la propina son $0.70 mas o menos que los valores actuales. "
   ]
  },
  {
   "cell_type": "markdown",
   "metadata": {},
   "source": [
    "## KNN Regression\n",
    "\n",
    "KNN significa K-nearest neighbors. KNN es un algoritmo de aprendisaje perezoso basado en encontrar\n",
    "la distancia Euclidea entre diferentes data points.\n",
    "\n",
    "Por que usar el algoritmo KNN?\n",
    "\n",
    "1. El algoritmo KNN no asume ninguna relacion entre las caracteristicas.\n",
    "2. My util para datasets donde la localizacion es importante.\n",
    "3. Solo tiene que cambiar el parametro K, que es el numero de los vecinos mar cercanos.\n",
    "4. No se necesita entrenamiento, ya que es un algoritmo de aprendisaje perezoso.\n",
    "5. Recomendar sistemas y buscar semanticas similares entre los documentos son muchas de las aplicaciones del algoritmo KNN\n",
    "\n",
    "Desventajas del algoritmo KNN\n",
    "\n",
    "1. Tu tienes que encontrar el valor optimo de K, lo cual no es facil\n",
    "2. no apto para datos de dimensiones muy altas "
   ]
  },
  {
   "cell_type": "code",
   "execution_count": 12,
   "metadata": {},
   "outputs": [
    {
     "name": "stdout",
     "output_type": "stream",
     "text": [
      "Mean Absolute Error 0.7513877551020406\n",
      "Mean Squared Error 0.9462902040816326\n",
      "Root Mean Squared Error 0.9727744877830794\n"
     ]
    }
   ],
   "source": [
    "\"\"\"\n",
    "Implementando el algoritmo KNN con SKlearn\n",
    "\n",
    "Es muy sencillo de implementar utilizando la clase KNeighborsRegressor, el proceso de entrenamiendo y de testing es el mismo que el de la\n",
    "regresion lineal.\n",
    "\"\"\"\n",
    "\n",
    "from sklearn.neighbors import KNeighborsRegressor\n",
    "\n",
    "KNN_reg = KNeighborsRegressor(n_neighbors=5)\n",
    "regressor = KNN_reg.fit(X_train, y_train)\n",
    "\n",
    "y_pred = regressor.predict(X_test)\n",
    "\n",
    "from sklearn import metrics\n",
    "\n",
    "print(\"Mean Absolute Error\", metrics.mean_absolute_error(y_test, y_pred))\n",
    "print(\"Mean Squared Error\", metrics.mean_squared_error(y_test, y_pred))\n",
    "print(\"Root Mean Squared Error\", np.sqrt(metrics.mean_squared_error(y_test, y_pred)))"
   ]
  },
  {
   "cell_type": "markdown",
   "metadata": {},
   "source": [
    "## Random Forest Regression\n",
    "\n",
    "Random forest regression es un algoritmo basado en árboles que convierte características en nodos de árbol y luego utiliza la pérdida de entropía para hacer predicciones.\n",
    "\n",
    "Por que utilizar Random Forest Algorithms ?\n",
    "\n",
    "1. Tiene un monton de datos perdidos o un dataset no balanceado.\n",
    "2. Con un largo numero de arboles, se puede sobreajustar en el entranmiento, el sobreajuste ocurre cuando\n",
    "los modelos de ML performan mejor en el entrenamiento pero peor en los tests\n",
    "3. El random forest algorithm se puede usar cuando tenemos unos datos dimensionales.\n",
    "4. A travez de la validacion cruzada, el random forest algorithm puede entregar una alta presicion.\n",
    "5. El random forest algorithm puede resolver tareas de clasificacion y regresion y encontrar aplicaciones en una alto rango de variedad.\n",
    "deteccion de fraudes de tarjetas de credito, prediccion de manejo de stock, transacciones fraudulentas, etc.\n",
    "\n",
    "Desventajas de los Random Forest Algoritmns\n",
    "\n",
    "1. Usar un largo numero de arboles puede hacer que el algoritmo sea lento\n",
    "2. el Random forest algorithm es un algoritmo de prediccion, que solo puede predecir el futuro, pero no puede\n",
    "explicar que paso en el pasado de nuestro dataset."
   ]
  },
  {
   "cell_type": "code",
   "execution_count": 13,
   "metadata": {},
   "outputs": [
    {
     "name": "stdout",
     "output_type": "stream",
     "text": [
      "Mean Absolute Error 0.7045338775510206\n",
      "Mean Squared Error 0.8021385735673484\n",
      "Root Mean Squared Error 0.8956218920768677\n"
     ]
    }
   ],
   "source": [
    "# Implementando el Random Forest Regressor usando SKLearn\n",
    "\n",
    "from sklearn.ensemble import RandomForestRegressor\n",
    "\n",
    "rf_reg = RandomForestRegressor(random_state=42, n_estimators=500)\n",
    "\n",
    "regressor = rf_reg.fit(X_train, y_train)\n",
    "\n",
    "y_pred = regressor.predict(X_test)\n",
    "\n",
    "# Evaluando la performance del algoritmo\n",
    "from sklearn import metrics\n",
    "\n",
    "print(\"Mean Absolute Error\", metrics.mean_absolute_error(y_test, y_pred))\n",
    "print(\"Mean Squared Error\", metrics.mean_squared_error(y_test, y_pred))\n",
    "print(\"Root Mean Squared Error\", np.sqrt(metrics.mean_squared_error(y_test, y_pred)))"
   ]
  },
  {
   "cell_type": "markdown",
   "metadata": {},
   "source": [
    "## Support Vector Regression\n",
    "\n",
    "La máquina de vectores de soporte son algoritmos de clasificación y regresión, que minimizan el error entre las predicciones reales y las predicciones predichas al maximizar la distancia entre hiperplanos que contienen datos para varios registros.\n",
    "\n",
    "Por que utilizar SVR Algorithms?\n",
    "\n",
    "1. Se puede utilizar para realizar una clasificación de regresión con datos de alta dimensión.\n",
    "2. Con el truco del kernel, SVM es capaz de aplicar regresión y clasificación a conjuntos de datos no lineales.\n",
    "3. Los algoritmos SVM se usan comúnmente para clasificación o regresión ordinal, y es por eso que se les conoce comúnmente como algoritmos de clasificación.\n",
    "\n",
    "Desventajas\n",
    "\n",
    "1. Muchos parámetros a optimizar para obtener el mejor rendimiento.\n",
    "2. La capacitación puede llevar mucho tiempo en grandes conjuntos de datos\n",
    "3. Produce malos resultados si la cantidad de características es mayor que la cantidad de registros en un conjunto de datos"
   ]
  },
  {
   "cell_type": "code",
   "execution_count": 14,
   "metadata": {},
   "outputs": [
    {
     "name": "stdout",
     "output_type": "stream",
     "text": [
      "Mean Absolute Error 0.7362521512772694\n",
      "Mean Squared Error 0.9684825097223089\n",
      "Root Mean Squared Error 0.9841150896731077\n"
     ]
    }
   ],
   "source": [
    "# Implementando SVR usando SKlearn\n",
    "\n",
    "from sklearn import svm\n",
    "\n",
    "svm_reg = svm.SVR()\n",
    "\n",
    "regressor = svm_reg.fit(X_train, y_train)\n",
    "y_pred = regressor.predict(X_test)\n",
    "\n",
    "# Evaluando la performance del algoritmo\n",
    "from sklearn import metrics\n",
    "\n",
    "print(\"Mean Absolute Error\", metrics.mean_absolute_error(y_test, y_pred))\n",
    "print(\"Mean Squared Error\", metrics.mean_squared_error(y_test, y_pred))\n",
    "print(\"Root Mean Squared Error\", np.sqrt(metrics.mean_squared_error(y_test, y_pred)))"
   ]
  },
  {
   "cell_type": "markdown",
   "metadata": {},
   "source": [
    "## K Fold Cross-Validation\n",
    "\n",
    "Anteriormente dividimos la data en un 80% para entrenar y un 20% para evaluar, esto quiere decir que solo el 20% de los datos son usado para testear y ese porcentaje\n",
    "nunca es usado para entrenar.\n",
    "\n",
    "Para resultados mas estables, es recomendable que todas las partes del dataset sean usadas al menos una vez para el entrenamiento y al menos una vez para testing, la tecnica del \n",
    "K-Fold Cross-Validation puede ser utilizada para esto.\n",
    "los datos se dividen en K partes, en cada experimento K-1 es usado para entrenar y Kth parte es usado para testear todo esto utilizando la funcion cross_val_score() de model_selection"
   ]
  },
  {
   "cell_type": "code",
   "execution_count": 15,
   "metadata": {},
   "outputs": [
    {
     "name": "stdout",
     "output_type": "stream",
     "text": [
      "[-0.66386205 -0.57007269 -0.63598762 -0.96960743 -0.87391702]\n"
     ]
    }
   ],
   "source": [
    "from sklearn.model_selection import cross_val_score\n",
    "\n",
    "print(cross_val_score(regressor, X, y, cv=5, scoring=\"neg_mean_absolute_error\"))"
   ]
  },
  {
   "cell_type": "markdown",
   "metadata": {},
   "source": [
    "## Haciendo predicciones en un registro simple"
   ]
  },
  {
   "cell_type": "code",
   "execution_count": 16,
   "metadata": {},
   "outputs": [
    {
     "data": {
      "text/plain": [
       "total_bill     11.35\n",
       "tip              2.5\n",
       "sex           Female\n",
       "smoker           Yes\n",
       "day              Fri\n",
       "time          Dinner\n",
       "size               2\n",
       "Name: 100, dtype: object"
      ]
     },
     "execution_count": 16,
     "metadata": {},
     "output_type": "execute_result"
    }
   ],
   "source": [
    "# Tomando el registro numero 100\n",
    "\n",
    "tips_df.loc[100]"
   ]
  },
  {
   "cell_type": "code",
   "execution_count": 17,
   "metadata": {},
   "outputs": [
    {
     "name": "stdout",
     "output_type": "stream",
     "text": [
      "[2.26622]\n"
     ]
    },
    {
     "name": "stderr",
     "output_type": "stream",
     "text": [
      "c:\\Users\\Rhodlib\\dev\\cdd\\.venv\\Lib\\site-packages\\sklearn\\base.py:493: UserWarning: X does not have valid feature names, but StandardScaler was fitted with feature names\n",
      "  warnings.warn(\n"
     ]
    }
   ],
   "source": [
    "\"\"\"\n",
    "Vamos a tratar de predecir el valor de la propina del registro nro 100 usando el random forest regressor.\n",
    "\"\"\"\n",
    "\n",
    "from sklearn.ensemble import RandomForestRegressor\n",
    "\n",
    "rf_reg = RandomForestRegressor(random_state=42, n_estimators=500)\n",
    "\n",
    "regressor = rf_reg.fit(X_train, y_train)\n",
    "\n",
    "single_record = sc.transform(X.values[100].reshape(1, -1))\n",
    "predicted_tip = regressor.predict(single_record)\n",
    "print(predicted_tip)"
   ]
  }
 ],
 "metadata": {
  "kernelspec": {
   "display_name": ".venv",
   "language": "python",
   "name": "python3"
  },
  "language_info": {
   "codemirror_mode": {
    "name": "ipython",
    "version": 3
   },
   "file_extension": ".py",
   "mimetype": "text/x-python",
   "name": "python",
   "nbconvert_exporter": "python",
   "pygments_lexer": "ipython3",
   "version": "3.12.4"
  }
 },
 "nbformat": 4,
 "nbformat_minor": 2
}
