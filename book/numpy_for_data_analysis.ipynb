{
 "cells": [
  {
   "cell_type": "markdown",
   "metadata": {},
   "source": [
    "# Numpy\n",
    "\n",
    "Este notepad contiene un resumen sobre numpy y algunas de sus funcionalidades mas utilizadas.\n",
    "\n",
    "## Ventajas\n",
    "\n",
    "Estas son algunas de las ventajas de Numpy frente a las listas regulares de python.\n",
    "\n",
    "1. Los arrays de Numpy son mucho mas rapidos para insertar, borrar, actualizar y leer datos.\n",
    "2. Los arrays de Numpy contienen una funcionalidad mas extensa que los arrays regulares de python.\n",
    "3. Los arrays de Numpy vienen con un monton de metodos y soportes para aritmetica avanzada y algebra lineal.\n",
    "4. Numpy te provee de capacidad avanzadas para el corte de matrices multidimensionales."
   ]
  },
  {
   "cell_type": "markdown",
   "metadata": {},
   "source": [
    "## Array Methods"
   ]
  },
  {
   "cell_type": "code",
   "execution_count": 1,
   "metadata": {},
   "outputs": [
    {
     "data": {
      "text/plain": [
       "numpy.ndarray"
      ]
     },
     "execution_count": 1,
     "metadata": {},
     "output_type": "execute_result"
    }
   ],
   "source": [
    "import numpy as np\n",
    "\n",
    "# Metodos para crear arrays en Numpy utilizando array()\n",
    "\n",
    "numbs_list = [10,12,14,16,20]\n",
    "numbs_array = np.array(numbs_list)\n",
    "\n",
    "type(numbs_array)"
   ]
  },
  {
   "cell_type": "code",
   "execution_count": 2,
   "metadata": {},
   "outputs": [
    {
     "data": {
      "text/plain": [
       "(3, 3)"
      ]
     },
     "execution_count": 2,
     "metadata": {},
     "output_type": "execute_result"
    }
   ],
   "source": [
    "# Tambien se pueden crear arrays multidimensionales\n",
    "\n",
    "row_1 = [10,12,13]\n",
    "row_2 = [45,32,16]\n",
    "row_3 = [45,32,16]\n",
    "\n",
    "numbs_2d = np.array([row_1,row_2,row_3])\n",
    "numbs_2d.shape"
   ]
  },
  {
   "cell_type": "code",
   "execution_count": 5,
   "metadata": {},
   "outputs": [
    {
     "name": "stdout",
     "output_type": "stream",
     "text": [
      "Array simple con arange\n",
      "[ 5  6  7  8  9 10]\n",
      "Array simple con arange y step\n",
      "[ 5  7  9 11]\n"
     ]
    }
   ],
   "source": [
    "\"\"\"\n",
    "Otro de los metodos es el arrange(), te permite crear numpy arrays que contengan\n",
    "un range de numeros enteros. el primer parametro se va a incluir en el resultado, pero el ultimo es omitido.\n",
    "\"\"\"\n",
    "\n",
    "numbs_arr = np.arange(5,11)\n",
    "print(\"Array simple con arange\")\n",
    "print(numbs_arr)\n",
    "\n",
    "\"\"\"\n",
    "Tambien se puede agregar un parametro mas para declarar un STEP. donde se define la distancia\n",
    "entre dos numeros consecutivos en el array\n",
    "\"\"\"\n",
    "numbs_arr = np.arange(5,12,2)\n",
    "print(\"Array simple con arange y step\")\n",
    "print(numbs_arr)\n",
    "\n"
   ]
  },
  {
   "cell_type": "code",
   "execution_count": 9,
   "metadata": {},
   "outputs": [
    {
     "name": "stdout",
     "output_type": "stream",
     "text": [
      "Numpy array con todos 1\n",
      "[1. 1. 1. 1. 1. 1.]\n",
      "Numpy array con todos 1 pero definido como multidimencional\n",
      "[[1. 1. 1. 1.]\n",
      " [1. 1. 1. 1.]\n",
      " [1. 1. 1. 1.]\n",
      " [1. 1. 1. 1.]\n",
      " [1. 1. 1. 1.]\n",
      " [1. 1. 1. 1.]]\n",
      "Ejemplo utilizando zeros()\n",
      "[[0. 0. 0. 0. 0.]\n",
      " [0. 0. 0. 0. 0.]\n",
      " [0. 0. 0. 0. 0.]\n",
      " [0. 0. 0. 0. 0.]\n",
      " [0. 0. 0. 0. 0.]]\n"
     ]
    }
   ],
   "source": [
    "# El metodo ones() te permite crear numpy arrays con todos unos.\n",
    "\n",
    "ones_array = np.ones(6)\n",
    "print(\"Numpy array con todos 1\")\n",
    "print(ones_array) \n",
    "\n",
    "\"\"\"\n",
    "Si le pasamos una tupla con 2 numeros podemos identificar al primer elemento como\n",
    "el numero de filas y el segundo como el numero de columnas\n",
    "\"\"\"\n",
    "print(\"Numpy array con todos 1 pero definido como multidimencional\")\n",
    "ones_array = np.ones((6,4))\n",
    "print(ones_array)\n",
    "\n",
    "# Tambien existe el metodo zeros() que tiene la misma funcionalidad pero completa con 0.\n",
    "print(\"Ejemplo utilizando zeros()\")\n",
    "zeros_array = np.zeros((5,5))\n",
    "print(zeros_array)"
   ]
  },
  {
   "cell_type": "code",
   "execution_count": 10,
   "metadata": {},
   "outputs": [
    {
     "name": "stdout",
     "output_type": "stream",
     "text": [
      "[[1. 0. 0. 0. 0.]\n",
      " [0. 1. 0. 0. 0.]\n",
      " [0. 0. 1. 0. 0.]\n",
      " [0. 0. 0. 1. 0.]\n",
      " [0. 0. 0. 0. 1.]]\n"
     ]
    }
   ],
   "source": [
    "\"\"\"\n",
    "El metodo eye() es utilizada para crear matrices de identidad en formato de un array de 2 dimensiones\n",
    "contiene una diagonal con 1s y el resto completa con 0\n",
    "\"\"\"\n",
    "eyes_array = np.eye(5)\n",
    "print(eyes_array)"
   ]
  },
  {
   "cell_type": "code",
   "execution_count": 14,
   "metadata": {},
   "outputs": [
    {
     "name": "stdout",
     "output_type": "stream",
     "text": [
      "Array de numpy con distribucion uniforme\n",
      "[[0.23723289 0.41733219 0.73966595 0.75335787 0.81012027]\n",
      " [0.6088398  0.52548373 0.74025042 0.71342943 0.5565715 ]\n",
      " [0.33605914 0.20396237 0.12727902 0.3004848  0.92830335]\n",
      " [0.59594767 0.74836974 0.21687667 0.38264811 0.95610659]]\n",
      "Array de numpy con distribucion normal\n",
      "[[-1.70078157 -0.43465917  1.56821905  0.8973008   2.42904896]\n",
      " [ 0.1792655   0.96357376  0.50985748 -0.66965191  0.27769131]\n",
      " [ 0.74753515 -1.09195337  1.05889712 -1.12863588  0.31158852]\n",
      " [ 0.25447436 -0.14737487  0.228929    1.46838858  0.83602202]]\n",
      "Array de numpy con numeros enteros random\n",
      "[26 30 38 28 19]\n"
     ]
    }
   ],
   "source": [
    "# El metodo random.rand() se puede utilizar para crear un array con distribucion uniforme -> 0 a 1.\n",
    "\n",
    "uniform_random = np.random.rand(4,5)\n",
    "print(\"Array de numpy con distribucion uniforme\")\n",
    "print(uniform_random)\n",
    "\n",
    "# Tambien se puede utilizar random.randn() con una n al final para crear una distribucion normal -> -1 a 1\n",
    "print(\"Array de numpy con distribucion normal\")\n",
    "normal_random = np.random.randn(4,5)\n",
    "print(normal_random)\n",
    "\n",
    "\"\"\"\n",
    "Y finalmente random.randint() permite crear un array de numpy con numeros aleatorios enteros entre un rango.\n",
    "recibe 2 parametros, el primero identifica el numero mas bajo, y segundo identifica el numero mas alto\n",
    "y el ultimo parametro identifica el numero de enteros random que se va a generar en el rango\n",
    "\"\"\"\n",
    "print(\"Array de numpy con numeros enteros random\")\n",
    "integer_random = np.random.randint(10,50,5)\n",
    "print(integer_random)"
   ]
  },
  {
   "cell_type": "markdown",
   "metadata": {},
   "source": [
    "## Reformacion de arrays"
   ]
  },
  {
   "cell_type": "code",
   "execution_count": 17,
   "metadata": {},
   "outputs": [
    {
     "name": "stdout",
     "output_type": "stream",
     "text": [
      "[[0.09530144 0.09012071 0.80011625 0.44440344 0.01716639 0.12949298\n",
      "  0.93937839 0.01615971]\n",
      " [0.79194013 0.71576549 0.59019765 0.24169068 0.99390775 0.40944124\n",
      "  0.75508148 0.94988822]\n",
      " [0.55238164 0.19500836 0.27760901 0.66780903 0.66817022 0.70526293\n",
      "  0.94079159 0.24943463]]\n"
     ]
    }
   ],
   "source": [
    "\"\"\"\n",
    "Los arrays de numpy puede ser reformados utilizando la funcion reshape()\n",
    "hay que tener en cuenta que la multiplicacion entre el numero de columnas y de filas tienen\n",
    "que ser iguales para poder realizar el reshape, por ejemplo 4 X 6 = 24, 3 X 8 = 24.\n",
    "\"\"\"\n",
    "uniform_random = np.random.rand(4,6)\n",
    "uniform_random = uniform_random.reshape(3,8)\n",
    "print(uniform_random)"
   ]
  },
  {
   "cell_type": "markdown",
   "metadata": {},
   "source": [
    "## Indexado y recorte de arrays"
   ]
  },
  {
   "cell_type": "code",
   "execution_count": 30,
   "metadata": {},
   "outputs": [
    {
     "name": "stdout",
     "output_type": "stream",
     "text": [
      "[ 1  2  3  4  5  6  7  8  9 10]\n",
      "2\n",
      "[2 3 4 5 6 7 8 9]\n",
      "[1 2 3 4 5]\n",
      "[ 6  7  8  9 10]\n",
      "[[10 12 13]\n",
      " [45 32 16]]\n",
      "[[10 12]\n",
      " [45 32]\n",
      " [45 32]]\n",
      "[[32 16]\n",
      " [32 16]]\n"
     ]
    }
   ],
   "source": [
    "\"\"\"\n",
    "Los array de numpy pueden ser indexados y recortados, los arrays en numpy se indexan igual que las listas normales\n",
    "indices en numpy comienzan desde 0\n",
    "\"\"\"\n",
    "s = np.arange(1,11)\n",
    "print(s)\n",
    "print(s[1])\n",
    "\n",
    "\"\"\" \n",
    "Para realizar un recorte de un array se tiene que indicar el inicio y el final del recorte\n",
    "el primer indice se incluye y el ultimo se excluye\n",
    "\"\"\"\n",
    "print(s[1:9])\n",
    "\n",
    "# Si solo se especifica uno solo, retorna desde el primer elemento hasta el que se indico o viseversa\n",
    "\n",
    "print(s[:5])\n",
    "print(s[5:])\n",
    "\n",
    "\"\"\"\n",
    "El recorte de array o Slicing, tambien puede ser aplicado en un array de 2 dimensiones.\n",
    "pero tiene que se aplicado en cada fila.\n",
    "\"\"\"\n",
    "row_1 = [10,12,13]\n",
    "row_2 = [45,32,16]\n",
    "row_3 = [45,32,16]\n",
    "\n",
    "numbs_2d = np.array([row_1, row_2, row_3])\n",
    "print(numbs_2d[:2,:])\n",
    "\n",
    "print(numbs_2d[:,:2])\n",
    "\n",
    "print(numbs_2d[1:,1:])"
   ]
  },
  {
   "cell_type": "markdown",
   "metadata": {},
   "source": [
    "## Operaciones aritmeticas"
   ]
  },
  {
   "cell_type": "code",
   "execution_count": 31,
   "metadata": {},
   "outputs": [
    {
     "name": "stdout",
     "output_type": "stream",
     "text": [
      "Raiz cuadrada de los elementos de la lista:\n",
      "[3.16227766 4.47213595 5.47722558 6.32455532 7.07106781]\n",
      "Logaritmos de los elementos de la lista:\n",
      "[2.30258509 2.99573227 3.40119738 3.68887945 3.91202301]\n",
      "Exponentes de los elementos de la lista:\n",
      "[2.20264658e+04 4.85165195e+08 1.06864746e+13 2.35385267e+17\n",
      " 5.18470553e+21]\n",
      "senos de los elementos de la lista:\n",
      "[-0.54402111  0.91294525 -0.98803162  0.74511316 -0.26237485]\n",
      "cosenos de los elementos de la lista:\n",
      "[-0.83907153  0.40808206  0.15425145 -0.66693806  0.96496603]\n"
     ]
    }
   ],
   "source": [
    "\"\"\"\n",
    "NumPy trae incorporado una variedad de funciones para realizar de manera performante\n",
    "operaciones aritmeticas\n",
    "\"\"\"\n",
    "\n",
    "# la funcion sqrt() nos permite encontrar la raiz cuadrada de todos los elementos de una lista.\n",
    "\n",
    "nums = [10,20,30,40,50]\n",
    "np_sqr = np.sqrt(nums)\n",
    "print(\"Raiz cuadrada de los elementos de la lista:\")\n",
    "print(np_sqr)\n",
    "\n",
    "# Tambien tenemos la funcion log() para buscar los logaritmos de una lista\n",
    "np_log = np.log(nums)\n",
    "print(\"Logaritmos de los elementos de la lista:\")\n",
    "print(np_log)\n",
    "\n",
    "# Con la funcion exp() podemos obtener los exponentes de todos los elementos de la lista\n",
    "np_exp = np.exp(nums)\n",
    "print(\"Exponentes de los elementos de la lista:\")\n",
    "print(np_exp)\n",
    "\n",
    "# Podemos buscar los senos y cosenos de cada item en una lista \n",
    "np_sine = np.sin(nums)\n",
    "print(\"senos de los elementos de la lista:\")\n",
    "print(np_sine)\n",
    "\n",
    "np_cos = np.cos(nums)\n",
    "print(\"cosenos de los elementos de la lista:\")\n",
    "print(np_cos)"
   ]
  },
  {
   "cell_type": "markdown",
   "metadata": {},
   "source": [
    "## Operaciones de algebra linear con Numpy\n",
    "\n",
    "La ciencia de datos utiliza extensivamente algebra lineal\n",
    "por eso el soporte avanzado que brinda Numpy para hacer operaciones rapidas, eficientes\n",
    "lo hace uno de los mas utilizados en el dia a dia."
   ]
  },
  {
   "cell_type": "code",
   "execution_count": 33,
   "metadata": {},
   "outputs": [
    {
     "name": "stdout",
     "output_type": "stream",
     "text": [
      "[[-2.98261849  1.41514426 -3.38797083  2.42583936]\n",
      " [-6.23423453  2.12504591 -1.90305465 -2.44182979]\n",
      " [-3.76084398  1.89191976 -1.24034349 -1.02683485]\n",
      " [-2.01889994  1.02381912  0.79246247 -3.309084  ]]\n"
     ]
    }
   ],
   "source": [
    "\"\"\"\n",
    "Para buscar el producto punto de una matriz se puede utilizar la funcion dot()\n",
    "el numero de columnas de la primera matriz tiene que ser igual al numero de filas\n",
    "de la segunda matriz \n",
    "\"\"\"\n",
    "\n",
    "A = np.random.randn(4,5)\n",
    "\n",
    "B = np.random.randn(5,4)\n",
    "\n",
    "Z = np.dot(A, B)\n",
    "\n",
    "print(Z)"
   ]
  },
  {
   "cell_type": "code",
   "execution_count": 38,
   "metadata": {},
   "outputs": [
    {
     "name": "stdout",
     "output_type": "stream",
     "text": [
      "[[ 100  144  169]\n",
      " [2025 1024  256]\n",
      " [2025 1024  256]]\n"
     ]
    }
   ],
   "source": [
    "# Tambien podemos multiplicar dos matrices, para hacerlo las dimensiones de las 2 matrices tienen que se iguales\n",
    "\n",
    "row_1 = [10,12,13]\n",
    "row_2 = [45,32,16]\n",
    "row_3 = [45,32,16]\n",
    "\n",
    "numbs_2d = np.array([row_1,row_2,row_3])\n",
    "multiply = np.multiply(numbs_2d, numbs_2d)\n",
    "print(multiply)\n"
   ]
  },
  {
   "cell_type": "code",
   "execution_count": 40,
   "metadata": {},
   "outputs": [
    {
     "name": "stdout",
     "output_type": "stream",
     "text": [
      "[[-24.  18.   5.]\n",
      " [ 20. -15.  -4.]\n",
      " [ -5.   4.   1.]]\n"
     ]
    }
   ],
   "source": [
    "# Podemos buscar la inversa de una matriz con la funcion linalg.inv()\n",
    "\n",
    "row_1 = [1,2,3]\n",
    "row_2 = [0,1,4]\n",
    "row_3 = [5,6,0]\n",
    "\n",
    "numbs_2d = np.array([row_1,row_2,row_3])\n",
    "inverse = np.linalg.inv(numbs_2d)\n",
    "print(inverse)\n"
   ]
  },
  {
   "cell_type": "code",
   "execution_count": null,
   "metadata": {},
   "outputs": [],
   "source": [
    "# Buscando la determinante de una matris con la funcion linalg.det()\n",
    "\n",
    "row_1 = [1,2,3]\n",
    "row_2 = [4,5,6]\n",
    "row_3 = [7,8,9]\n",
    "\n",
    "numbs_2d = np.array([row_1,row_2,row_3])\n",
    "determinant = np.lin"
   ]
  }
 ],
 "metadata": {
  "kernelspec": {
   "display_name": ".venv",
   "language": "python",
   "name": "python3"
  },
  "language_info": {
   "codemirror_mode": {
    "name": "ipython",
    "version": 3
   },
   "file_extension": ".py",
   "mimetype": "text/x-python",
   "name": "python",
   "nbconvert_exporter": "python",
   "pygments_lexer": "ipython3",
   "version": "3.12.4"
  }
 },
 "nbformat": 4,
 "nbformat_minor": 2
}
